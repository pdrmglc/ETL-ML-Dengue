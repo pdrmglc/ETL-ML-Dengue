{
 "cells": [
  {
   "cell_type": "code",
   "execution_count": 3,
   "metadata": {},
   "outputs": [],
   "source": [
    "import pandas as pd\n",
    "import os\n",
    "from pathlib import Path\n"
   ]
  },
  {
   "cell_type": "code",
   "execution_count": 7,
   "metadata": {},
   "outputs": [],
   "source": [
    "## Estabelecendo diretórios base\n",
    "diretorio_src_etl = os.getcwd()\n",
    "diretorio_src = Path(diretorio_src_etl).parent.absolute()\n",
    "diretorio_base = Path(diretorio_src).parent.absolute()\n",
    "diretorio_data = os.path.join(diretorio_base, 'data')\n",
    "\n",
    "# Bronze\n",
    "diretorio_bronze = os.path.join(diretorio_data, 'bronze')\n",
    "diretorio_ibge = os.path.join(diretorio_bronze, 'ibge')\n",
    "diretorio_ibge_csv = os.path.join(diretorio_ibge, 'csv')\n",
    "\n",
    "# Silver\n",
    "diretorio_silver = os.path.join(diretorio_data, 'silver')\n",
    "diretorio_ibge_pop_silver = os.path.join(diretorio_silver, 'ibge_pop')\n",
    "diretorio_ibge_pop_tsv_silver = os.path.join(diretorio_ibge_pop_silver, 'tsv')\n",
    "\n",
    "\n",
    "## Criação de pastas para armazenar os arquivos\n",
    "os.makedirs(os.path.join(diretorio_data), exist_ok=True)\n",
    "\n",
    "# Bronze\n",
    "os.makedirs(os.path.join(diretorio_bronze), exist_ok=True)\n",
    "os.makedirs(os.path.join(diretorio_ibge), exist_ok=True)\n",
    "os.makedirs(os.path.join(diretorio_ibge_csv), exist_ok=True)\n",
    "\n",
    "# Silver\n",
    "os.makedirs(os.path.join(diretorio_silver), exist_ok=True)\n",
    "os.makedirs(os.path.join(diretorio_ibge_pop_silver), exist_ok=True)\n",
    "os.makedirs(os.path.join(diretorio_ibge_pop_tsv_silver), exist_ok=True)\n",
    "\n"
   ]
  },
  {
   "cell_type": "code",
   "execution_count": 9,
   "metadata": {},
   "outputs": [],
   "source": [
    "arquivos_csv = [arquivo for arquivo in os.listdir(diretorio_ibge_csv) if arquivo.endswith(\"csv\")]\n",
    "arquivos_tsv = [arquivo.rstrip(\"csv\") + \"tsv\" for arquivo in arquivos_csv]"
   ]
  },
  {
   "cell_type": "code",
   "execution_count": 10,
   "metadata": {},
   "outputs": [],
   "source": [
    "for arquivo_csv, arquivo_tsv in zip(arquivos_csv, arquivos_tsv):\n",
    "    df = pd.read_csv(os.path.join(diretorio_ibge_csv, arquivo_csv), sep=',')\n",
    "    df.to_csv(os.path.join(diretorio_ibge_pop_tsv_silver, arquivo_tsv), sep='\\t', index=False)"
   ]
  }
 ],
 "metadata": {
  "kernelspec": {
   "display_name": ".venv",
   "language": "python",
   "name": "python3"
  },
  "language_info": {
   "codemirror_mode": {
    "name": "ipython",
    "version": 3
   },
   "file_extension": ".py",
   "mimetype": "text/x-python",
   "name": "python",
   "nbconvert_exporter": "python",
   "pygments_lexer": "ipython3",
   "version": "3.8.3"
  }
 },
 "nbformat": 4,
 "nbformat_minor": 2
}
