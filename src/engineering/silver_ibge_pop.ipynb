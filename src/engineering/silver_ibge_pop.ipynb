{
 "cells": [
  {
   "cell_type": "code",
   "execution_count": 1,
   "metadata": {},
   "outputs": [
    {
     "data": {
      "text/plain": [
       "<module 'toolkitEngineering' from 'd:\\\\Projetos\\\\ETL-ML-Dengue\\\\src\\\\engineering\\\\toolkitEngineering.py'>"
      ]
     },
     "execution_count": 1,
     "metadata": {},
     "output_type": "execute_result"
    }
   ],
   "source": [
    "import pandas as pd\n",
    "import os\n",
    "from pathlib import Path\n",
    "import toolkitEngineering\n",
    "import importlib\n",
    "importlib.reload(toolkitEngineering)"
   ]
  },
  {
   "cell_type": "code",
   "execution_count": 2,
   "metadata": {},
   "outputs": [],
   "source": [
    "## Estabelecendo diretórios base\n",
    "diretorio_src_etl = os.getcwd()\n",
    "diretorio_src = Path(diretorio_src_etl).parent.absolute()\n",
    "diretorio_base = Path(diretorio_src).parent.absolute()\n",
    "diretorio_data = os.path.join(diretorio_base, 'data')\n",
    "\n",
    "# Bronze\n",
    "diretorio_bronze = os.path.join(diretorio_data, 'bronze')\n",
    "diretorio_ibge = os.path.join(diretorio_bronze, 'ibge')\n",
    "diretorio_ibge_csv = os.path.join(diretorio_ibge, 'csv')\n",
    "\n",
    "# Silver\n",
    "diretorio_silver = os.path.join(diretorio_data, 'silver')\n",
    "diretorio_ibge_pop_silver = os.path.join(diretorio_silver, 'ibge_pop')\n",
    "diretorio_ibge_pop_tsv_silver = os.path.join(diretorio_ibge_pop_silver, 'tsv')\n",
    "\n",
    "\n",
    "## Criação de pastas para armazenar os arquivos\n",
    "os.makedirs(os.path.join(diretorio_data), exist_ok=True)\n",
    "\n",
    "# Bronze\n",
    "os.makedirs(os.path.join(diretorio_bronze), exist_ok=True)\n",
    "os.makedirs(os.path.join(diretorio_ibge), exist_ok=True)\n",
    "os.makedirs(os.path.join(diretorio_ibge_csv), exist_ok=True)\n",
    "\n",
    "# Silver\n",
    "os.makedirs(os.path.join(diretorio_silver), exist_ok=True)\n",
    "os.makedirs(os.path.join(diretorio_ibge_pop_silver), exist_ok=True)\n",
    "os.makedirs(os.path.join(diretorio_ibge_pop_tsv_silver), exist_ok=True)\n",
    "\n"
   ]
  },
  {
   "cell_type": "code",
   "execution_count": 3,
   "metadata": {},
   "outputs": [],
   "source": [
    "arquivos_csv = [arquivo for arquivo in os.listdir(diretorio_ibge_csv) if arquivo.endswith(\"csv\")]\n",
    "arquivos_tsv = [arquivo.rstrip(\"csv\") + \"tsv\" for arquivo in arquivos_csv]"
   ]
  },
  {
   "cell_type": "code",
   "execution_count": 38,
   "metadata": {},
   "outputs": [],
   "source": [
    "for arquivo_csv, arquivo_tsv in zip(arquivos_csv, arquivos_tsv):\n",
    "    df = pd.read_csv(os.path.join(diretorio_ibge_csv, arquivo_csv), sep=',')\n",
    "    df['MUNIC_RES'] = df['MUNIC_RES'].apply(lambda x: str(x)[:-1] if len (str(x)) == 7 else str(x))\n",
    "    df.columns = df.columns.str.lower()\n",
    "    df.to_csv(os.path.join(diretorio_ibge_pop_tsv_silver, arquivo_tsv), sep='\\t', index=False)"
   ]
  },
  {
   "cell_type": "code",
   "execution_count": 4,
   "metadata": {},
   "outputs": [],
   "source": [
    "diretorio_dotenv = os.path.join(diretorio_base, \".env\")\n",
    "\n",
    "cursor, conn = toolkitEngineering.conectar_banco(diretorio_dotenv)\n",
    "for arquivo_tsv in arquivos_tsv:\n",
    "    \n",
    "    caminho_arquivo = os.path.join(diretorio_ibge_pop_tsv_silver, arquivo_tsv)\n",
    "    toolkitEngineering.inserir_no_banco(cursor, conn, caminho_arquivo, 'ibge_pop', delimiter='\\t', diretorio_dotenv=diretorio_dotenv)\n"
   ]
  }
 ],
 "metadata": {
  "kernelspec": {
   "display_name": ".venv",
   "language": "python",
   "name": "python3"
  },
  "language_info": {
   "codemirror_mode": {
    "name": "ipython",
    "version": 3
   },
   "file_extension": ".py",
   "mimetype": "text/x-python",
   "name": "python",
   "nbconvert_exporter": "python",
   "pygments_lexer": "ipython3",
   "version": "3.8.3"
  }
 },
 "nbformat": 4,
 "nbformat_minor": 2
}
