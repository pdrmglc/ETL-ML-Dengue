{
 "cells": [
  {
   "cell_type": "code",
   "execution_count": 25,
   "metadata": {},
   "outputs": [
    {
     "data": {
      "text/plain": [
       "<module 'toolkitEngineering' from 'd:\\\\Projetos\\\\ETL-ML-Dengue\\\\src\\\\engineering\\\\toolkitEngineering.py'>"
      ]
     },
     "execution_count": 25,
     "metadata": {},
     "output_type": "execute_result"
    }
   ],
   "source": [
    "import os\n",
    "from pathlib import Path\n",
    "import pandas as pd\n",
    "import numpy as np\n",
    "import toolkitEngineering\n",
    "import importlib\n",
    "importlib.reload(toolkitEngineering)"
   ]
  },
  {
   "cell_type": "code",
   "execution_count": 26,
   "metadata": {},
   "outputs": [],
   "source": [
    "## Estabelecendo diretórios base\n",
    "diretorio_src_etl = os.getcwd()\n",
    "diretorio_src = Path(diretorio_src_etl).parent.absolute()\n",
    "diretorio_base = Path(diretorio_src).parent.absolute()\n",
    "diretorio_data = os.path.join(diretorio_base, 'data')\n",
    "\n",
    "# Bronze\n",
    "diretorio_bronze = os.path.join(diretorio_data, 'bronze')\n",
    "diretorio_sinan_bronze = os.path.join(diretorio_bronze, 'sinan')\n",
    "diretorio_sinan_bronze_csv = os.path.join(diretorio_sinan_bronze, 'csv')\n",
    "\n",
    "# Silver\n",
    "diretorio_silver = os.path.join(diretorio_data, 'silver')\n",
    "diretorio_sinan_silver = os.path.join(diretorio_silver, 'sinan')\n",
    "diretorio_sinan_silver_tsv = os.path.join(diretorio_sinan_silver, 'tsv')\n",
    "\n",
    "## Criação de pastas para armazenar os arquivos\n",
    "os.makedirs(os.path.join(diretorio_data), exist_ok=True)\n",
    "os.makedirs(os.path.join(diretorio_silver), exist_ok=True)\n",
    "os.makedirs(os.path.join(diretorio_sinan_silver), exist_ok=True)\n",
    "os.makedirs(os.path.join(diretorio_sinan_silver_tsv), exist_ok=True)\n",
    "\n",
    "\n"
   ]
  },
  {
   "cell_type": "code",
   "execution_count": 27,
   "metadata": {},
   "outputs": [
    {
     "data": {
      "text/plain": [
       "['head_100_DENGBR10.tsv', 'head_100_DENGBR11.tsv']"
      ]
     },
     "execution_count": 27,
     "metadata": {},
     "output_type": "execute_result"
    }
   ],
   "source": [
    "arquivos_csv = [arquivo for arquivo in os.listdir(diretorio_sinan_bronze_csv) if arquivo.endswith(\"csv\")]\n",
    "arquivos_csv = arquivos_csv[-2:]\n",
    "arquivos_tsv = [arquivo.rstrip(\"csv\") + \"tsv\" for arquivo in arquivos_csv]\n",
    "arquivos_tsv"
   ]
  },
  {
   "cell_type": "code",
   "execution_count": 28,
   "metadata": {},
   "outputs": [],
   "source": [
    "# Função para converter NU_IDADE_N para idade em anos\n",
    "def convert_to_years(age):\n",
    "    if pd.isnull(age):\n",
    "        return np.nan\n",
    "    if len(str(age)) < 4:\n",
    "        return np.nan\n",
    "    age_str = str(age)\n",
    "    prefix = age_str[0]\n",
    "    value = int(age_str[1:])\n",
    "    \n",
    "    if prefix == '1':  # Hora\n",
    "        return value / (24 * 365)  # Aproximação para converter horas em anos\n",
    "    elif prefix == '2':  # Dia\n",
    "        return value / 365  # Aproximação para converter dias em anos\n",
    "    elif prefix == '3':  # Mês\n",
    "        return value / 12  # Aproximação para converter meses em anos\n",
    "    elif prefix == '4':  # Ano\n",
    "        return value\n",
    "    else:\n",
    "        return np.nan\n",
    "\n"
   ]
  },
  {
   "cell_type": "code",
   "execution_count": 30,
   "metadata": {},
   "outputs": [],
   "source": [
    "colunas_importantes = [\n",
    "    \"NU_ANO\",\"NU_MES\", \"ID_MUNICIP\", \"DT_NOTIFIC\", \"SEM_NOT\", \"DT_SIN_PRI\", \"SEM_PRI\", \"NU_IDADE_N\", \"IDADE_ANOS\", \"CS_SEXO\",\n",
    "    \"CS_GESTANT\", \"CS_RACA\", \"CS_ESCOL_N\", \"SG_UF\", \"ID_MN_RESI\", \"ID_PAIS\", \"NDUPLIC_N\", \"DT_INVEST\", \"DT_SORO\",\n",
    "    \"DT_NS1\", \"RESUL_NS1\", \"DT_VIRAL\", \"RESUL_VI_N\", \"DT_PCR\", \"RESUL_PCR_\", \"SOROTIPO\", \"HISTOPA_N\", \"IMUNOH_N\",\n",
    "    \"TPAUTOCTO\", \"COUFINF\", \"COPAISINF\", \"COMUNINF\", \"EVOLUCAO\", \"DT_OBITO\", \"DT_ENCERRA\", \"MANI_HEMOR\", \"EPISTAXE\",\n",
    "    \"PETEQUIAS\", \"HEMATURA\", \"SANGRAM\", \"LACO_N\", \"PLASMATICO\", \"EVIDENCIA\", \"COMPLICA\", \"HOSPITALIZ\", \"DT_INTERNA\",\n",
    "    \"CRITERIO\",\"CLASSI_FIN\",\"RESUL_SORO\",\"METRO\",\"GENGIVO\",\"UF\",\"MUNICIPIO\"\n",
    "]\n",
    "column_map = {\n",
    "    \"DT_INTER\": \"DT_INTERNA\"\n",
    "}\n",
    "\n",
    "    # Lista das colunas que queremos tentar converter para inteiros\n",
    "columns_to_convert = [\n",
    "    \"CS_GESTANT\", \"CS_RACA\", \"ID_PAIS\", \"NDUPLIC_N\",\n",
    "    \"RESUL_SORO\", \"RESUL_NS1\", \"RESUL_VI_N\", \"RESUL_PCR_\", \"SOROTIPO\",\n",
    "    \"HISTOPA_N\", \"IMUNOH_N\", \"CLASSI_FIN\", \"TPAUTOCTO\", \"EVOLUCAO\",\n",
    "    \"MANI_HEMOR\", \"EPISTAXE\", \"GENGIVO\", \"METRO\", \"PETEQUIAS\",\n",
    "    \"HEMATURA\", \"SANGRAM\", \"LACO_N\", \"PLASMATICO\", \"EVIDENCIA\",\n",
    "    \"COMPLICA\", \"HOSPITALIZ\", \"UF\", \"CS_ESCOL_N\", \"CRITERIO\", \"COUFINF\", \"MUNICIPIO\", \"COMUNINF\", \"ID_MN_RESI\"]"
   ]
  },
  {
   "cell_type": "code",
   "execution_count": 31,
   "metadata": {},
   "outputs": [],
   "source": [
    "for arquivo_csv, arquivo_tsv in zip(arquivos_csv, arquivos_tsv):\n",
    "    df = pd.read_csv(os.path.join(diretorio_sinan_bronze_csv, arquivo_csv), sep=',')\n",
    "    # Trocar \"NA\" por np.nan (ou None, ambos representam valores nulos em Pandas)\n",
    "    df.replace(\"NA\", np.nan, inplace=True)\n",
    "    df.replace(\"\", np.nan, inplace=True)\n",
    "    # Remover aspas das colunas que são de tipo string\n",
    "    df = df.applymap(lambda x: x.strip('\"') if isinstance(x, str) else x)\n",
    "    # Aplicar a função e criar a nova coluna IDADE_ANOS\n",
    "    df['IDADE_ANOS'] = df['NU_IDADE_N'].apply(convert_to_years)\n",
    "    df['NU_MES'] = df['DT_NOTIFIC'].apply(lambda x: x.split('-')[1].lstrip(\"0\"))\n",
    "    df = df.rename(columns=column_map)\n",
    "    df = df[colunas_importantes]\n",
    "\n",
    "\n",
    "    # Itera sobre cada coluna e tenta converter para inteiro\n",
    "    for column in columns_to_convert:\n",
    "        df[column] = pd.to_numeric(df[column], errors='coerce').astype('Int64')\n",
    "\n",
    "    df.columns = df.columns.str.lower()\n",
    "    \n",
    "\n",
    "    df.to_csv(os.path.join(diretorio_sinan_silver_tsv, arquivo_tsv), sep='\\t', index=False)"
   ]
  },
  {
   "cell_type": "code",
   "execution_count": 32,
   "metadata": {},
   "outputs": [],
   "source": [
    "diretorio_dotenv = os.path.join(diretorio_base, \".env\")\n",
    "\n",
    "cursor, conn = toolkitEngineering.conectar_banco(diretorio_dotenv)\n",
    "for arquivo_tsv in arquivos_tsv:\n",
    "    \n",
    "    caminho_arquivo = os.path.join(diretorio_sinan_silver_tsv, arquivo_tsv)\n",
    "    toolkitEngineering.inserir_no_banco(cursor, conn, caminho_arquivo, 'sinan_dengue', delimiter='\\t',\n",
    "                                        diretorio_dotenv=diretorio_dotenv)\n"
   ]
  }
 ],
 "metadata": {
  "kernelspec": {
   "display_name": ".venv",
   "language": "python",
   "name": "python3"
  },
  "language_info": {
   "codemirror_mode": {
    "name": "ipython",
    "version": 3
   },
   "file_extension": ".py",
   "mimetype": "text/x-python",
   "name": "python",
   "nbconvert_exporter": "python",
   "pygments_lexer": "ipython3",
   "version": "3.8.3"
  }
 },
 "nbformat": 4,
 "nbformat_minor": 2
}
