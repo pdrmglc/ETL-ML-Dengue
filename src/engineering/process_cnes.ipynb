{
 "cells": [
  {
   "cell_type": "code",
   "execution_count": 1,
   "metadata": {},
   "outputs": [
    {
     "data": {
      "text/plain": [
       "'d:\\\\Projetos\\\\ETL-ML-Dengue\\\\src\\\\engineering'"
      ]
     },
     "execution_count": 1,
     "metadata": {},
     "output_type": "execute_result"
    }
   ],
   "source": [
    "import os\n",
    "os.getcwd()"
   ]
  },
  {
   "cell_type": "code",
   "execution_count": 2,
   "metadata": {},
   "outputs": [
    {
     "name": "stdout",
     "output_type": "stream",
     "text": [
      "Script R executado com sucesso: \n"
     ]
    }
   ],
   "source": [
    "import subprocess\n",
    "\n",
    "def chamar_script_r(ano_inicio, mes_inicio, ano_fim, mes_fim, uf, banco, diretorio_saida, diretorio_script_r):\n",
    "    # Gerar um nome de arquivo único baseado nos parâmetros\n",
    "    nome_arquivo = f\"{ano_inicio}_{mes_inicio}_{ano_fim}_{mes_fim}_{uf}_{banco}.csv\"\n",
    "    caminho_saida = f\"{diretorio_saida}/{nome_arquivo}\"\n",
    "    \n",
    "    # Construir o caminho completo para o script R\n",
    "    caminho_script_r = f\"{diretorio_script_r}/script.R\"\n",
    "    \n",
    "    # Construir a lista de argumentos\n",
    "    args = [\n",
    "        \"Rscript\", caminho_script_r,\n",
    "        str(ano_inicio),\n",
    "        str(mes_inicio),\n",
    "        str(ano_fim),\n",
    "        str(mes_fim),\n",
    "        uf,\n",
    "        banco,\n",
    "        caminho_saida\n",
    "    ]\n",
    "    \n",
    "    # Chamar o script R usando subprocess\n",
    "    result = subprocess.run(args, capture_output=True, text=True)\n",
    "    \n",
    "    # Checar se houve algum erro\n",
    "    if result.returncode != 0:\n",
    "        print(f\"Erro ao executar o script R: {result.stderr}\")\n",
    "    else:\n",
    "        print(f\"Script R executado com sucesso: {result.stdout}\")\n",
    "        print(f\"Arquivo salvo em: {caminho_saida}\")\n",
    "\n",
    "# Exemplo de chamada da função\n",
    "chamar_script_r(2020, 1, 2020, 1, \"AC\", \"CNES-ST\", \"/caminho/para/diretorio_saida\", \"/caminho/para/diretorio_do_script_r\")\n"
   ]
  }
 ],
 "metadata": {
  "kernelspec": {
   "display_name": ".venv",
   "language": "python",
   "name": "python3"
  },
  "language_info": {
   "codemirror_mode": {
    "name": "ipython",
    "version": 3
   },
   "file_extension": ".py",
   "mimetype": "text/x-python",
   "name": "python",
   "nbconvert_exporter": "python",
   "pygments_lexer": "ipython3",
   "version": "3.8.3"
  }
 },
 "nbformat": 4,
 "nbformat_minor": 2
}
