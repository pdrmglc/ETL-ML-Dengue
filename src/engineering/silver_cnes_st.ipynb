{
 "cells": [
  {
   "cell_type": "code",
   "execution_count": 6,
   "metadata": {},
   "outputs": [
    {
     "data": {
      "text/plain": [
       "<module 'toolkitEngineering' from 'd:\\\\Projetos\\\\ETL-ML-Dengue\\\\src\\\\engineering\\\\toolkitEngineering.py'>"
      ]
     },
     "execution_count": 6,
     "metadata": {},
     "output_type": "execute_result"
    }
   ],
   "source": [
    "import os\n",
    "from pathlib import Path\n",
    "import pandas as pd\n",
    "import numpy as np\n",
    "import toolkitEngineering\n",
    "import importlib\n",
    "importlib.reload(toolkitEngineering)"
   ]
  },
  {
   "cell_type": "code",
   "execution_count": 3,
   "metadata": {},
   "outputs": [],
   "source": [
    "## Estabelecendo diretórios base\n",
    "diretorio_src_etl = os.getcwd()\n",
    "diretorio_src = Path(diretorio_src_etl).parent.absolute()\n",
    "diretorio_base = Path(diretorio_src).parent.absolute()\n",
    "diretorio_data = os.path.join(diretorio_base, 'data')\n",
    "\n",
    "# Bronze\n",
    "diretorio_bronze = os.path.join(diretorio_data, 'bronze')\n",
    "diretorio_cnes_st_bronze = os.path.join(diretorio_bronze, 'cnes_st')\n",
    "diretorio_cnes_st_bronze_csv = os.path.join(diretorio_cnes_st_bronze, 'csv')\n",
    "\n",
    "# Silver\n",
    "diretorio_silver = os.path.join(diretorio_data, 'silver')\n",
    "diretorio_cnes_st_silver = os.path.join(diretorio_silver, 'cnes_st')\n",
    "diretorio_cnes_st_silver_tsv = os.path.join(diretorio_cnes_st_silver, 'tsv')\n",
    "\n",
    "## Criação de pastas para armazenar os arquivos\n",
    "os.makedirs(os.path.join(diretorio_data), exist_ok=True)\n",
    "os.makedirs(os.path.join(diretorio_silver), exist_ok=True)\n",
    "os.makedirs(os.path.join(diretorio_cnes_st_silver), exist_ok=True)\n",
    "os.makedirs(os.path.join(diretorio_cnes_st_silver_tsv), exist_ok=True)\n",
    "\n",
    "\n"
   ]
  },
  {
   "cell_type": "code",
   "execution_count": 5,
   "metadata": {},
   "outputs": [
    {
     "data": {
      "text/plain": [
       "['STSE1002.tsv',\n",
       " 'STSP1001.tsv',\n",
       " 'STSP1002.tsv',\n",
       " 'STTO1001.tsv',\n",
       " 'STTO1002.tsv']"
      ]
     },
     "execution_count": 5,
     "metadata": {},
     "output_type": "execute_result"
    }
   ],
   "source": [
    "arquivos_csv = [arquivo for arquivo in os.listdir(diretorio_cnes_st_bronze_csv) if arquivo.endswith(\"csv\")]\n",
    "arquivos_csv = arquivos_csv[-5:]\n",
    "arquivos_tsv = [arquivo.rstrip(\"csv\") + \"tsv\" for arquivo in arquivos_csv]\n",
    "arquivos_tsv"
   ]
  },
  {
   "cell_type": "code",
   "execution_count": null,
   "metadata": {},
   "outputs": [],
   "source": [
    "colunas_importantes = ['CNES', 'CODUFMUN', 'COMPETEN', 'VINC_SUS']\n",
    "\n",
    "colunas_decodificar = {'VINC_SUS':{\n",
    "    1: \"Sim\",\n",
    "    0: \"Não\"\n",
    "}}\n",
    "\n",
    "column_map = []\n",
    "\n",
    "columns_to_convert = []"
   ]
  },
  {
   "cell_type": "code",
   "execution_count": null,
   "metadata": {},
   "outputs": [],
   "source": [
    "for arquivo_csv, arquivo_tsv in zip(arquivos_csv, arquivos_tsv):\n",
    "    df = pd.read_csv(os.path.join(diretorio_cnes_st_bronze_csv, arquivo_csv), sep=',')\n",
    "\n",
    "    for coluna in colunas_importantes:\n",
    "        if coluna not in df.columns:\n",
    "            df[coluna] = np.nan\n",
    "            continue\n",
    "    df = df[colunas_importantes]\n",
    "    for coluna in colunas_decodificar:\n",
    "        df[coluna] = df[coluna].apply(lambda x: toolkitEngineering.aplicar_decoficador(x, coluna, colunas_decodificar))\n",
    "    df.replace(\"NA\", np.nan, inplace=True)\n",
    "    df.replace(\"\", np.nan, inplace=True)\n",
    "    df = df.applymap(lambda x: x.strip('\"') if isinstance(x, str) else x)\n",
    "    df['NU_MES'] = df['DT_NOTIFIC'].apply(lambda x: x.split('-')[1].lstrip(\"0\"))\n",
    "    df = df.rename(columns=column_map)\n",
    "    \n",
    "    df.columns = df.columns.str.lower()\n",
    "    \n",
    "    for column in columns_to_convert:\n",
    "        df[column] = pd.to_numeric(df[column], errors='coerce').astype('Int64')\n",
    "\n",
    "    df.to_csv(os.path.join(diretorio_cnes_st_silver_tsv, arquivo_tsv), sep='\\t', index=False)"
   ]
  }
 ],
 "metadata": {
  "kernelspec": {
   "display_name": ".venv",
   "language": "python",
   "name": "python3"
  },
  "language_info": {
   "codemirror_mode": {
    "name": "ipython",
    "version": 3
   },
   "file_extension": ".py",
   "mimetype": "text/x-python",
   "name": "python",
   "nbconvert_exporter": "python",
   "pygments_lexer": "ipython3",
   "version": "3.8.3"
  }
 },
 "nbformat": 4,
 "nbformat_minor": 2
}
