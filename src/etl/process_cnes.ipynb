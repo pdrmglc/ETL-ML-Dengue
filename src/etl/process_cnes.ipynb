{
 "cells": [
  {
   "cell_type": "code",
   "execution_count": 6,
   "metadata": {},
   "outputs": [
    {
     "data": {
      "text/plain": [
       "<module 'toolkitETL' from 'd:\\\\Projetos\\\\ETL-ML-Dengue\\\\src\\\\etl\\\\toolkitETL.py'>"
      ]
     },
     "execution_count": 6,
     "metadata": {},
     "output_type": "execute_result"
    }
   ],
   "source": [
    "import os\n",
    "from pathlib import Path\n",
    "import toolkitETL\n",
    "import importlib\n",
    "importlib.reload(toolkitETL)\n"
   ]
  },
  {
   "cell_type": "code",
   "execution_count": 2,
   "metadata": {},
   "outputs": [],
   "source": [
    "## Estabelecendo diretórios base\n",
    "diretorio_src_etl = os.getcwd()\n",
    "diretorio_src = Path(diretorio_src_etl).parent.absolute()\n",
    "diretorio_base = Path(diretorio_src).parent.absolute()\n",
    "diretorio_data = os.path.join(diretorio_base, 'data')\n",
    "diretorio_bronze = os.path.join(diretorio_data, 'bronze')\n",
    "\n",
    "# estabelecimentos\n",
    "diretorio_cnes_st = os.path.join(diretorio_bronze, 'cnes_st')\n",
    "diretorio_cnes_st_dbc = os.path.join(diretorio_cnes_st, 'dbc')\n",
    "diretorio_cnes_st_csv = os.path.join(diretorio_cnes_st, 'csv')\n",
    "\n",
    "# profissionais\n",
    "diretorio_cnes_pf = os.path.join(diretorio_bronze, 'cnes_pf')\n",
    "diretorio_cnes_pf_dbc = os.path.join(diretorio_cnes_pf, 'dbc')\n",
    "diretorio_cnes_pf_csv = os.path.join(diretorio_cnes_pf, 'csv')\n",
    "\n",
    "# # equipamentos\n",
    "# diretorio_cnes_eq = os.path.join(diretorio_bronze, 'cnes_eq')\n",
    "# diretorio_cnes_eq_dbc = os.path.join(diretorio_cnes_eq, 'dbc')\n",
    "# diretorio_cnes_eq_csv = os.path.join(diretorio_cnes_eq, 'csv')\n",
    "\n",
    "## Criação de pastas para armazenar os arquivos\n",
    "os.makedirs(os.path.join(diretorio_data), exist_ok=True)\n",
    "os.makedirs(os.path.join(diretorio_bronze), exist_ok=True)\n",
    "\n",
    "# estabelecimentos\n",
    "os.makedirs(os.path.join(diretorio_cnes_st), exist_ok=True)\n",
    "os.makedirs(os.path.join(diretorio_cnes_st_dbc), exist_ok=True)\n",
    "os.makedirs(os.path.join(diretorio_cnes_st_csv), exist_ok=True)\n",
    "\n",
    "# profissionais\n",
    "os.makedirs(os.path.join(diretorio_cnes_pf), exist_ok=True)\n",
    "os.makedirs(os.path.join(diretorio_cnes_pf_dbc), exist_ok=True)\n",
    "os.makedirs(os.path.join(diretorio_cnes_pf_csv), exist_ok=True)\n",
    "\n",
    "\n"
   ]
  },
  {
   "cell_type": "code",
   "execution_count": 12,
   "metadata": {},
   "outputs": [],
   "source": [
    "lista_estados = [\n",
    "        \"AC\", \"AL\", \"AP\", \"AM\", \"BA\",\n",
    "        \"CE\", \"DF\", \"ES\", \"GO\", \"MA\",\n",
    "        \"MT\", \"MS\", \"MG\", \"PA\", \"PB\",\n",
    "        \"PR\", \"PE\", \"PI\", \"RJ\", \"RN\",\n",
    "        \"RS\", \"RO\", \"RR\", \"SC\", \"SP\",\n",
    "        \"SE\", \"TO\",\n",
    "]\n",
    "lista_estados = lista_estados[:1]\n",
    "\n",
    "ano_inicio = 2010\n",
    "ano_fim = 2010\n",
    "mes_inicio = 1\n",
    "mes_fim = 12"
   ]
  },
  {
   "cell_type": "code",
   "execution_count": 13,
   "metadata": {},
   "outputs": [
    {
     "name": "stdout",
     "output_type": "stream",
     "text": [
      "Script R executado com sucesso: \n",
      "Arquivo salvo em: d:\\Projetos\\ETL-ML-Dengue\\data\\bronze\\cnes_st\\csv/2010_1_2010_12_AC_CNES-ST.csv\n"
     ]
    }
   ],
   "source": [
    "\n",
    "for estado in lista_estados:\n",
    "    toolkitETL.chamar_script_r_microsus(ano_inicio, mes_inicio, ano_fim, mes_fim, estado, \"CNES-ST\", diretorio_cnes_st_csv, \"process_cnes.R\")\n"
   ]
  },
  {
   "cell_type": "code",
   "execution_count": 14,
   "metadata": {},
   "outputs": [
    {
     "name": "stdout",
     "output_type": "stream",
     "text": [
      "Script R executado com sucesso: \n",
      "Arquivo salvo em: d:\\Projetos\\ETL-ML-Dengue\\data\\bronze\\cnes_pf\\csv/2010_1_2010_12_AC_CNES-PF.csv\n"
     ]
    }
   ],
   "source": [
    "\n",
    "for estado in lista_estados:\n",
    "    toolkitETL.chamar_script_r_microsus(ano_inicio, mes_inicio, ano_fim, mes_fim, estado, \"CNES-PF\", diretorio_cnes_pf_csv, \"process_cnes.R\")\n"
   ]
  }
 ],
 "metadata": {
  "kernelspec": {
   "display_name": ".venv",
   "language": "python",
   "name": "python3"
  },
  "language_info": {
   "codemirror_mode": {
    "name": "ipython",
    "version": 3
   },
   "file_extension": ".py",
   "mimetype": "text/x-python",
   "name": "python",
   "nbconvert_exporter": "python",
   "pygments_lexer": "ipython3",
   "version": "3.8.3"
  }
 },
 "nbformat": 4,
 "nbformat_minor": 2
}
