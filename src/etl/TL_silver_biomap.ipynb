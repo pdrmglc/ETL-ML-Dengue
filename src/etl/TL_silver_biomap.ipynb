{
 "cells": [
  {
   "cell_type": "code",
   "execution_count": 1,
   "metadata": {},
   "outputs": [
    {
     "data": {
      "text/plain": [
       "<module 'toolkitETL' from 'c:\\\\Users\\\\pedro\\\\OneDrive\\\\Área de Trabalho\\\\Pedro\\\\Portifolio\\\\ETL-ML-Dengue\\\\src\\\\etl\\\\toolkitETL.py'>"
      ]
     },
     "execution_count": 1,
     "metadata": {},
     "output_type": "execute_result"
    }
   ],
   "source": [
    "import pandas as pd\n",
    "import os\n",
    "from pathlib import Path\n",
    "import numpy as np\n",
    "import toolkitETL\n",
    "import importlib\n",
    "importlib.reload(toolkitETL)\n"
   ]
  },
  {
   "cell_type": "code",
   "execution_count": 2,
   "metadata": {},
   "outputs": [],
   "source": [
    "## Estabelecendo diretórios base\n",
    "diretorio_src_etl = os.getcwd()\n",
    "diretorio_src = Path(diretorio_src_etl).parent.absolute()\n",
    "diretorio_base = Path(diretorio_src).parent.absolute()\n",
    "diretorio_base = \"D:\\\\Mestrado_pedro\"\n",
    "diretorio_data = os.path.join(diretorio_base, 'data')\n",
    "\n",
    "# Bronze\n",
    "diretorio_bronze = os.path.join(diretorio_data, 'bronze')\n",
    "diretorio_biomap = os.path.join(diretorio_bronze, 'biomap')\n",
    "diretorio_biomap_tsv = os.path.join(diretorio_biomap, 'tsv')\n",
    "\n",
    "# Silver\n",
    "diretorio_silver = os.path.join(diretorio_data, 'silver')\n",
    "diretorio_biomap_silver = os.path.join(diretorio_silver, 'biomap')\n",
    "diretorio_biomap_tsv_silver = os.path.join(diretorio_biomap_silver, 'tsv')\n",
    "\n",
    "\n",
    "## Criação de pastas para armazenar os arquivos\n",
    "os.makedirs(os.path.join(diretorio_data), exist_ok=True)\n",
    "\n",
    "# Bronze\n",
    "os.makedirs(os.path.join(diretorio_bronze), exist_ok=True)\n",
    "os.makedirs(os.path.join(diretorio_biomap), exist_ok=True)\n",
    "os.makedirs(os.path.join(diretorio_biomap_tsv), exist_ok=True)\n",
    "\n",
    "# Silver\n",
    "os.makedirs(os.path.join(diretorio_silver), exist_ok=True)\n",
    "os.makedirs(os.path.join(diretorio_biomap_silver), exist_ok=True)\n",
    "os.makedirs(os.path.join(diretorio_biomap_tsv_silver), exist_ok=True)\n",
    "\n"
   ]
  },
  {
   "cell_type": "code",
   "execution_count": 3,
   "metadata": {},
   "outputs": [
    {
     "data": {
      "text/plain": [
       "['biomaps.tsv']"
      ]
     },
     "execution_count": 3,
     "metadata": {},
     "output_type": "execute_result"
    }
   ],
   "source": [
    "arquivos_tsv = [arquivo for arquivo in os.listdir(diretorio_biomap_tsv) if arquivo.endswith(\"tsv\")]\n",
    "arquivos_tsv"
   ]
  },
  {
   "cell_type": "code",
   "execution_count": 19,
   "metadata": {},
   "outputs": [],
   "source": [
    "colunas_importantes = ['geocode', 'biome','level_4'] + [f'{num}' for num in range(2010,2022)]\n",
    "\n",
    "column_map = {\n",
    "    'geocode': 'id_municip',\n",
    "    'Aquaculture': 'aquaculture', \n",
    "    'Beach and Dune': 'beach_and_dune', \n",
    "    'Citrus': 'citrus', \n",
    "    'Coffe': 'coffe', \n",
    "    'Cotton': 'cotton', \n",
    "    'Flooded Forest': 'flooded_forest', \n",
    "    'Forest Formation': 'forest_formation', \n",
    "    'Forest Plantation': 'forest_plantation', \n",
    "    'Grassland': 'grassland', \n",
    "    'Magrove': 'magrove', \n",
    "    'Mining': 'mining', \n",
    "    'Mosaic of Agriculture and Pasture': 'mosaic_of_agriculture_and_pasture', \n",
    "    'Non Observed': 'non_observed', \n",
    "    'Other Non Forest Natural Formation': 'other_non_forest_natural_formation', \n",
    "    'Other Non Vegetated Area': 'other_non_vegetated_area', \n",
    "    'Other Perennial Crops': 'other_perennial_crops', \n",
    "    'Other Temporary Crops': 'other_temporary_crops', \n",
    "    'Palm Oil': 'palm_oil', \n",
    "    'Pasture': 'pasture', \n",
    "    'Restinga Herbácea/Arbustiva': 'restinga_herbácea_arbustiva', \n",
    "    'Rice': 'rice', \n",
    "    'River, Lake and Ocean': 'river_lake_and_ocean', \n",
    "    'Rocky outcrop': 'rocky_outcrop', \n",
    "    'Salt flat': 'salt_flat', \n",
    "    'Savanna Formation': 'savanna_formation', \n",
    "    'Soy Beans': 'soy_beans', \n",
    "    'Sugar Cane': 'sugar_cane', \n",
    "    'Urban Infrastructure': 'urban_infrastructure', \n",
    "    'Wetland': 'wetland', \n",
    "    'Wooded Restinga': 'wooded_restinga'\n",
    "}"
   ]
  },
  {
   "cell_type": "code",
   "execution_count": 27,
   "metadata": {},
   "outputs": [],
   "source": [
    "lista_dfs = []\n",
    "\n",
    "\n",
    "for arquivo_tsv in arquivos_tsv:\n",
    "    diretorio_arquivo_tsv_bronze = os.path.join(diretorio_biomap_tsv, arquivo_tsv)\n",
    "    df = pd.read_csv(diretorio_arquivo_tsv_bronze, sep='\\t')\n",
    "    df = df[colunas_importantes]\n",
    "\n",
    "    df['geocode'] = df['geocode'].apply(lambda x: str(x)[:-1] if len(str(x)) == 7 else x)\n",
    "    # Derretendo o DataFrame para que os anos virem uma única coluna\n",
    "    df_melted = pd.melt(df, id_vars=['geocode', 'biome', 'level_4'], var_name='nu_ano', value_name='value')\n",
    "    # Pivotando o DataFrame para que 'level_4' vire colunas\n",
    "    df_pivoted = df_melted.pivot_table(index=['geocode', 'biome', 'nu_ano'], columns='level_4', values='value').reset_index()\n",
    "\n",
    "    df_pivoted.columns.name = None\n",
    "    df_pivoted = df_pivoted.rename(columns=column_map)\n",
    "\n",
    "    lista_dfs.append(df_pivoted)\n",
    "\n",
    "\n",
    "\n",
    "df_final = pd.concat(lista_dfs, ignore_index=True)\n",
    "\n",
    "df_final[\"biomaps_id\"] = df_final.index + 1\n",
    "df_final.to_csv(os.path.join(diretorio_biomap_tsv_silver, 'biomap_tratado.tsv'), sep='\\t', index=False)\n"
   ]
  },
  {
   "cell_type": "code",
   "execution_count": 4,
   "metadata": {},
   "outputs": [],
   "source": [
    "# df_final = pd.read_csv(os.path.join(diretorio_biomap_tsv_silver, 'biomap_tratado.tsv'), sep='\\t')\n",
    "\n"
   ]
  },
  {
   "cell_type": "code",
   "execution_count": 8,
   "metadata": {},
   "outputs": [],
   "source": [
    "diretorio_dotenv = os.path.join(diretorio_base, \".env\")\n",
    "\n",
    "cursor, conn = toolkitETL.conectar_banco(diretorio_dotenv)\n",
    "\n",
    "caminho_arquivo = os.path.join(diretorio_biomap_tsv_silver, 'biomap_tratado.tsv')\n",
    "toolkitETL.inserir_no_banco(cursor, conn, caminho_arquivo, 'biomaps', delimiter='\\t',\n",
    "                                    diretorio_dotenv=diretorio_dotenv)\n"
   ]
  }
 ],
 "metadata": {
  "kernelspec": {
   "display_name": ".venv",
   "language": "python",
   "name": "python3"
  },
  "language_info": {
   "codemirror_mode": {
    "name": "ipython",
    "version": 3
   },
   "file_extension": ".py",
   "mimetype": "text/x-python",
   "name": "python",
   "nbconvert_exporter": "python",
   "pygments_lexer": "ipython3",
   "version": "3.12.0"
  }
 },
 "nbformat": 4,
 "nbformat_minor": 2
}
