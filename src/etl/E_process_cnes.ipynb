{
 "cells": [
  {
   "cell_type": "code",
   "execution_count": 31,
   "metadata": {},
   "outputs": [
    {
     "data": {
      "text/plain": [
       "<module 'toolkitETL' from 'd:\\\\Projetos\\\\ETL-ML-Dengue\\\\src\\\\etl\\\\toolkitETL.py'>"
      ]
     },
     "execution_count": 31,
     "metadata": {},
     "output_type": "execute_result"
    }
   ],
   "source": [
    "import os\n",
    "from pathlib import Path\n",
    "from tqdm import tqdm\n",
    "import toolkitETL\n",
    "import importlib\n",
    "importlib.reload(toolkitETL)\n"
   ]
  },
  {
   "cell_type": "code",
   "execution_count": 32,
   "metadata": {},
   "outputs": [],
   "source": [
    "## Estabelecendo diretórios base\n",
    "diretorio_src_etl = os.getcwd()\n",
    "diretorio_src = Path(diretorio_src_etl).parent.absolute()\n",
    "diretorio_base = Path(diretorio_src).parent.absolute()\n",
    "diretorio_base = \"E:\\Mestrado_pedro\"\n",
    "diretorio_data = os.path.join(diretorio_base, 'data')\n",
    "diretorio_bronze = os.path.join(diretorio_data, 'bronze')\n",
    "\n",
    "# estabelecimentos\n",
    "diretorio_cnes_st = os.path.join(diretorio_bronze, 'cnes_st')\n",
    "diretorio_cnes_st_dbc = os.path.join(diretorio_cnes_st, 'dbc')\n",
    "diretorio_cnes_st_csv = os.path.join(diretorio_cnes_st, 'csv')\n",
    "\n",
    "# profissionais\n",
    "diretorio_cnes_pf = os.path.join(diretorio_bronze, 'cnes_pf')\n",
    "diretorio_cnes_pf_dbc = os.path.join(diretorio_cnes_pf, 'dbc')\n",
    "diretorio_cnes_pf_csv = os.path.join(diretorio_cnes_pf, 'csv')\n",
    "\n",
    "## Criação de pastas para armazenar os arquivos\n",
    "os.makedirs(os.path.join(diretorio_data), exist_ok=True)\n",
    "os.makedirs(os.path.join(diretorio_bronze), exist_ok=True)\n",
    "\n",
    "# estabelecimentos\n",
    "os.makedirs(os.path.join(diretorio_cnes_st), exist_ok=True)\n",
    "os.makedirs(os.path.join(diretorio_cnes_st_dbc), exist_ok=True)\n",
    "os.makedirs(os.path.join(diretorio_cnes_st_csv), exist_ok=True)\n",
    "\n",
    "# profissionais\n",
    "os.makedirs(os.path.join(diretorio_cnes_pf), exist_ok=True)\n",
    "os.makedirs(os.path.join(diretorio_cnes_pf_dbc), exist_ok=True)\n",
    "os.makedirs(os.path.join(diretorio_cnes_pf_csv), exist_ok=True)\n",
    "\n",
    "\n"
   ]
  },
  {
   "cell_type": "code",
   "execution_count": 33,
   "metadata": {},
   "outputs": [],
   "source": [
    "lista_estados = [\n",
    "        \"AC\", \"AL\", \"AP\", \"AM\", \"BA\",\n",
    "        \"CE\", \"DF\", \"ES\", \"GO\", \"MA\",\n",
    "        \"MT\", \"MS\", \"MG\", \"PA\", \"PB\",\n",
    "        \"PR\", \"PE\", \"PI\", \"RJ\", \"RN\",\n",
    "        \"RS\", \"RO\", \"RR\", \"SC\", \"SP\",\n",
    "        \"SE\", \"TO\",\n",
    "]\n",
    "\n",
    "# ano_inicio = 2010\n",
    "# ano_fim = 2010\n",
    "# mes_inicio = 1\n",
    "# mes_fim = 12\n",
    "link = \"ftp://ftp.datasus.gov.br/dissemin/publicos/CNES/200508_/Dados/ST/\"\n",
    "prefixo = \"ST\"\n",
    "extensao = '.dbc'"
   ]
  },
  {
   "cell_type": "code",
   "execution_count": 34,
   "metadata": {},
   "outputs": [
    {
     "name": "stderr",
     "output_type": "stream",
     "text": [
      "100%|██████████| 12/12 [55:43<00:00, 278.66s/it]\n"
     ]
    }
   ],
   "source": [
    "for mes in tqdm(toolkitETL.intervalo_anos(inicio=1, fim=12)):\n",
    "    mes = str(mes)\n",
    "    if len(mes) == 1:\n",
    "        mes = \"0\"+mes\n",
    "    falhas_estados = toolkitETL.loop_download_anos_estados(inicio=10, fim=21, diretorio_download=diretorio_cnes_st_dbc,\n",
    "                                        link=link, prefixo=prefixo, extensao=extensao, lista_estados=lista_estados, ftp=True,\n",
    "                                        texto_adicional_pos_ano=mes)"
   ]
  },
  {
   "cell_type": "code",
   "execution_count": null,
   "metadata": {},
   "outputs": [],
   "source": [
    "# Defina os diretórios de entrada e saída\n",
    "input_dir = diretorio_cnes_st_dbc\n",
    "output_dir = diretorio_cnes_st_csv\n",
    "r_script_path = \"D:\\\\Projetos\\\\ETL-ML-Dengue\\\\src\\\\etl\\\\dbc2csv.R\"\n",
    "# Chama a função\n",
    "toolkitETL.run_r_script_dbc2csv(input_dir, output_dir, r_script_path)"
   ]
  },
  {
   "cell_type": "code",
   "execution_count": 35,
   "metadata": {},
   "outputs": [],
   "source": [
    "lista_estados = [\n",
    "        \"AC\", \"AL\", \"AP\", \"AM\", \"BA\",\n",
    "        \"CE\", \"DF\", \"ES\", \"GO\", \"MA\",\n",
    "        \"MT\", \"MS\", \"MG\", \"PA\", \"PB\",\n",
    "        \"PR\", \"PE\", \"PI\", \"RJ\", \"RN\",\n",
    "        \"RS\", \"RO\", \"RR\", \"SC\", \"SP\",\n",
    "        \"SE\", \"TO\",\n",
    "]\n",
    "\n",
    "link = \"ftp://ftp.datasus.gov.br/dissemin/publicos/CNES/200508_/Dados/PF/\"\n",
    "prefixo = \"PF\"\n",
    "extensao = '.dbc'"
   ]
  },
  {
   "cell_type": "code",
   "execution_count": 36,
   "metadata": {},
   "outputs": [
    {
     "name": "stderr",
     "output_type": "stream",
     "text": [
      "  0%|          | 0/12 [11:48<?, ?it/s]\n"
     ]
    },
    {
     "ename": "KeyboardInterrupt",
     "evalue": "",
     "output_type": "error",
     "traceback": [
      "\u001b[1;31m---------------------------------------------------------------------------\u001b[0m",
      "\u001b[1;31mKeyboardInterrupt\u001b[0m                         Traceback (most recent call last)",
      "Cell \u001b[1;32mIn[36], line 5\u001b[0m\n\u001b[0;32m      3\u001b[0m \u001b[38;5;28;01mif\u001b[39;00m \u001b[38;5;28mlen\u001b[39m(mes) \u001b[38;5;241m==\u001b[39m \u001b[38;5;241m1\u001b[39m:\n\u001b[0;32m      4\u001b[0m     mes \u001b[38;5;241m=\u001b[39m \u001b[38;5;124m\"\u001b[39m\u001b[38;5;124m0\u001b[39m\u001b[38;5;124m\"\u001b[39m\u001b[38;5;241m+\u001b[39mmes\n\u001b[1;32m----> 5\u001b[0m falhas_estados \u001b[38;5;241m=\u001b[39m \u001b[43mtoolkitETL\u001b[49m\u001b[38;5;241;43m.\u001b[39;49m\u001b[43mloop_download_anos_estados\u001b[49m\u001b[43m(\u001b[49m\u001b[43minicio\u001b[49m\u001b[38;5;241;43m=\u001b[39;49m\u001b[38;5;241;43m10\u001b[39;49m\u001b[43m,\u001b[49m\u001b[43m \u001b[49m\u001b[43mfim\u001b[49m\u001b[38;5;241;43m=\u001b[39;49m\u001b[38;5;241;43m21\u001b[39;49m\u001b[43m,\u001b[49m\u001b[43m \u001b[49m\u001b[43mdiretorio_download\u001b[49m\u001b[38;5;241;43m=\u001b[39;49m\u001b[43mdiretorio_cnes_pf_dbc\u001b[49m\u001b[43m,\u001b[49m\n\u001b[0;32m      6\u001b[0m \u001b[43m                                    \u001b[49m\u001b[43mlink\u001b[49m\u001b[38;5;241;43m=\u001b[39;49m\u001b[43mlink\u001b[49m\u001b[43m,\u001b[49m\u001b[43m \u001b[49m\u001b[43mprefixo\u001b[49m\u001b[38;5;241;43m=\u001b[39;49m\u001b[43mprefixo\u001b[49m\u001b[43m,\u001b[49m\u001b[43m \u001b[49m\u001b[43mextensao\u001b[49m\u001b[38;5;241;43m=\u001b[39;49m\u001b[43mextensao\u001b[49m\u001b[43m,\u001b[49m\u001b[43m \u001b[49m\u001b[43mlista_estados\u001b[49m\u001b[38;5;241;43m=\u001b[39;49m\u001b[43mlista_estados\u001b[49m\u001b[43m,\u001b[49m\u001b[43m \u001b[49m\u001b[43mftp\u001b[49m\u001b[38;5;241;43m=\u001b[39;49m\u001b[38;5;28;43;01mTrue\u001b[39;49;00m\u001b[43m,\u001b[49m\n\u001b[0;32m      7\u001b[0m \u001b[43m                                    \u001b[49m\u001b[43mtexto_adicional_pos_ano\u001b[49m\u001b[38;5;241;43m=\u001b[39;49m\u001b[43mmes\u001b[49m\u001b[43m)\u001b[49m\n",
      "File \u001b[1;32md:\\Projetos\\ETL-ML-Dengue\\src\\etl\\toolkitETL.py:88\u001b[0m, in \u001b[0;36mloop_download_anos_estados\u001b[1;34m(inicio, fim, diretorio_download, link, prefixo, extensao, lista_estados, ftp, texto_adicional_pre_ano, texto_adicional_pos_ano)\u001b[0m\n\u001b[0;32m     85\u001b[0m     tmp_prefixo \u001b[38;5;241m=\u001b[39m prefixo \u001b[38;5;241m+\u001b[39m estado \u001b[38;5;241m+\u001b[39mtexto_adicional_pre_ano\n\u001b[0;32m     86\u001b[0m     tmp_extensao \u001b[38;5;241m=\u001b[39m  texto_adicional_pos_ano \u001b[38;5;241m+\u001b[39m extensao\n\u001b[1;32m---> 88\u001b[0m     falhas \u001b[38;5;241m=\u001b[39m \u001b[43mloop_download_anos\u001b[49m\u001b[43m(\u001b[49m\u001b[43minicio\u001b[49m\u001b[38;5;241;43m=\u001b[39;49m\u001b[43minicio\u001b[49m\u001b[43m,\u001b[49m\u001b[43m \u001b[49m\u001b[43mfim\u001b[49m\u001b[38;5;241;43m=\u001b[39;49m\u001b[43mfim\u001b[49m\u001b[43m,\u001b[49m\n\u001b[0;32m     89\u001b[0m \u001b[43m    \u001b[49m\u001b[43mdiretorio_download\u001b[49m\u001b[38;5;241;43m=\u001b[39;49m\u001b[43mdiretorio_download\u001b[49m\u001b[43m,\u001b[49m\n\u001b[0;32m     90\u001b[0m \u001b[43m    \u001b[49m\u001b[43mlink\u001b[49m\u001b[38;5;241;43m=\u001b[39;49m\u001b[43mlink\u001b[49m\u001b[43m,\u001b[49m\n\u001b[0;32m     91\u001b[0m \u001b[43m    \u001b[49m\u001b[43mprefixo\u001b[49m\u001b[38;5;241;43m=\u001b[39;49m\u001b[43mtmp_prefixo\u001b[49m\u001b[43m,\u001b[49m\n\u001b[0;32m     92\u001b[0m \u001b[43m    \u001b[49m\u001b[43mextensao\u001b[49m\u001b[38;5;241;43m=\u001b[39;49m\u001b[43mtmp_extensao\u001b[49m\u001b[43m,\u001b[49m\n\u001b[0;32m     93\u001b[0m \u001b[43m    \u001b[49m\u001b[43mftp\u001b[49m\u001b[38;5;241;43m=\u001b[39;49m\u001b[43mftp\u001b[49m\u001b[43m)\u001b[49m\n\u001b[0;32m     95\u001b[0m     falhas_estados\u001b[38;5;241m.\u001b[39mappend((estado, falhas))\n\u001b[0;32m     97\u001b[0m \u001b[38;5;28;01mreturn\u001b[39;00m falhas_estados\n",
      "File \u001b[1;32md:\\Projetos\\ETL-ML-Dengue\\src\\etl\\toolkitETL.py:61\u001b[0m, in \u001b[0;36mloop_download_anos\u001b[1;34m(inicio, fim, diretorio_download, link, prefixo, extensao, ftp)\u001b[0m\n\u001b[0;32m     59\u001b[0m \u001b[38;5;28;01mif\u001b[39;00m \u001b[38;5;129;01mnot\u001b[39;00m os\u001b[38;5;241m.\u001b[39mpath\u001b[38;5;241m.\u001b[39mexists(filename_path):\n\u001b[0;32m     60\u001b[0m     \u001b[38;5;28;01mif\u001b[39;00m ftp:\n\u001b[1;32m---> 61\u001b[0m         \u001b[43mbaixar_arquivos_ftp\u001b[49m\u001b[43m(\u001b[49m\u001b[43murl\u001b[49m\u001b[38;5;241;43m=\u001b[39;49m\u001b[43murl\u001b[49m\u001b[43m,\u001b[49m\u001b[43m \u001b[49m\u001b[43mfilename\u001b[49m\u001b[38;5;241;43m=\u001b[39;49m\u001b[43mfilename_path\u001b[49m\u001b[43m)\u001b[49m\n\u001b[0;32m     62\u001b[0m     \u001b[38;5;28;01melse\u001b[39;00m:\n\u001b[0;32m     63\u001b[0m         baixar_arquivos_http(url\u001b[38;5;241m=\u001b[39murl, filename\u001b[38;5;241m=\u001b[39mfilename_path)\n",
      "File \u001b[1;32md:\\Projetos\\ETL-ML-Dengue\\src\\etl\\toolkitETL.py:26\u001b[0m, in \u001b[0;36mbaixar_arquivos_ftp\u001b[1;34m(url, filename)\u001b[0m\n\u001b[0;32m     24\u001b[0m \u001b[38;5;28;01mdef\u001b[39;00m \u001b[38;5;21mbaixar_arquivos_ftp\u001b[39m(url: \u001b[38;5;28mstr\u001b[39m, filename: \u001b[38;5;28mstr\u001b[39m) \u001b[38;5;241m-\u001b[39m\u001b[38;5;241m>\u001b[39m \u001b[38;5;28;01mNone\u001b[39;00m:\n\u001b[1;32m---> 26\u001b[0m     \u001b[43murllib\u001b[49m\u001b[38;5;241;43m.\u001b[39;49m\u001b[43mrequest\u001b[49m\u001b[38;5;241;43m.\u001b[39;49m\u001b[43murlretrieve\u001b[49m\u001b[43m(\u001b[49m\u001b[43murl\u001b[49m\u001b[43m,\u001b[49m\u001b[43m \u001b[49m\u001b[43mfilename\u001b[49m\u001b[43m)\u001b[49m\n",
      "File \u001b[1;32m~\\AppData\\Local\\Programs\\Python\\Python38\\lib\\urllib\\request.py:276\u001b[0m, in \u001b[0;36murlretrieve\u001b[1;34m(url, filename, reporthook, data)\u001b[0m\n\u001b[0;32m    273\u001b[0m     reporthook(blocknum, bs, size)\n\u001b[0;32m    275\u001b[0m \u001b[38;5;28;01mwhile\u001b[39;00m \u001b[38;5;28;01mTrue\u001b[39;00m:\n\u001b[1;32m--> 276\u001b[0m     block \u001b[38;5;241m=\u001b[39m \u001b[43mfp\u001b[49m\u001b[38;5;241;43m.\u001b[39;49m\u001b[43mread\u001b[49m\u001b[43m(\u001b[49m\u001b[43mbs\u001b[49m\u001b[43m)\u001b[49m\n\u001b[0;32m    277\u001b[0m     \u001b[38;5;28;01mif\u001b[39;00m \u001b[38;5;129;01mnot\u001b[39;00m block:\n\u001b[0;32m    278\u001b[0m         \u001b[38;5;28;01mbreak\u001b[39;00m\n",
      "File \u001b[1;32m~\\AppData\\Local\\Programs\\Python\\Python38\\lib\\tempfile.py:474\u001b[0m, in \u001b[0;36m_TemporaryFileWrapper.__getattr__.<locals>.func_wrapper\u001b[1;34m(*args, **kwargs)\u001b[0m\n\u001b[0;32m    472\u001b[0m \u001b[38;5;129m@_functools\u001b[39m\u001b[38;5;241m.\u001b[39mwraps(func)\n\u001b[0;32m    473\u001b[0m \u001b[38;5;28;01mdef\u001b[39;00m \u001b[38;5;21mfunc_wrapper\u001b[39m(\u001b[38;5;241m*\u001b[39margs, \u001b[38;5;241m*\u001b[39m\u001b[38;5;241m*\u001b[39mkwargs):\n\u001b[1;32m--> 474\u001b[0m     \u001b[38;5;28;01mreturn\u001b[39;00m \u001b[43mfunc\u001b[49m\u001b[43m(\u001b[49m\u001b[38;5;241;43m*\u001b[39;49m\u001b[43margs\u001b[49m\u001b[43m,\u001b[49m\u001b[43m \u001b[49m\u001b[38;5;241;43m*\u001b[39;49m\u001b[38;5;241;43m*\u001b[39;49m\u001b[43mkwargs\u001b[49m\u001b[43m)\u001b[49m\n",
      "File \u001b[1;32m~\\AppData\\Local\\Programs\\Python\\Python38\\lib\\tempfile.py:474\u001b[0m, in \u001b[0;36m_TemporaryFileWrapper.__getattr__.<locals>.func_wrapper\u001b[1;34m(*args, **kwargs)\u001b[0m\n\u001b[0;32m    472\u001b[0m \u001b[38;5;129m@_functools\u001b[39m\u001b[38;5;241m.\u001b[39mwraps(func)\n\u001b[0;32m    473\u001b[0m \u001b[38;5;28;01mdef\u001b[39;00m \u001b[38;5;21mfunc_wrapper\u001b[39m(\u001b[38;5;241m*\u001b[39margs, \u001b[38;5;241m*\u001b[39m\u001b[38;5;241m*\u001b[39mkwargs):\n\u001b[1;32m--> 474\u001b[0m     \u001b[38;5;28;01mreturn\u001b[39;00m \u001b[43mfunc\u001b[49m\u001b[43m(\u001b[49m\u001b[38;5;241;43m*\u001b[39;49m\u001b[43margs\u001b[49m\u001b[43m,\u001b[49m\u001b[43m \u001b[49m\u001b[38;5;241;43m*\u001b[39;49m\u001b[38;5;241;43m*\u001b[39;49m\u001b[43mkwargs\u001b[49m\u001b[43m)\u001b[49m\n",
      "File \u001b[1;32m~\\AppData\\Local\\Programs\\Python\\Python38\\lib\\socket.py:669\u001b[0m, in \u001b[0;36mSocketIO.readinto\u001b[1;34m(self, b)\u001b[0m\n\u001b[0;32m    667\u001b[0m \u001b[38;5;28;01mwhile\u001b[39;00m \u001b[38;5;28;01mTrue\u001b[39;00m:\n\u001b[0;32m    668\u001b[0m     \u001b[38;5;28;01mtry\u001b[39;00m:\n\u001b[1;32m--> 669\u001b[0m         \u001b[38;5;28;01mreturn\u001b[39;00m \u001b[38;5;28;43mself\u001b[39;49m\u001b[38;5;241;43m.\u001b[39;49m\u001b[43m_sock\u001b[49m\u001b[38;5;241;43m.\u001b[39;49m\u001b[43mrecv_into\u001b[49m\u001b[43m(\u001b[49m\u001b[43mb\u001b[49m\u001b[43m)\u001b[49m\n\u001b[0;32m    670\u001b[0m     \u001b[38;5;28;01mexcept\u001b[39;00m timeout:\n\u001b[0;32m    671\u001b[0m         \u001b[38;5;28mself\u001b[39m\u001b[38;5;241m.\u001b[39m_timeout_occurred \u001b[38;5;241m=\u001b[39m \u001b[38;5;28;01mTrue\u001b[39;00m\n",
      "\u001b[1;31mKeyboardInterrupt\u001b[0m: "
     ]
    }
   ],
   "source": [
    "for mes in tqdm(toolkitETL.intervalo_anos(inicio=1, fim=12)):\n",
    "    mes = str(mes)\n",
    "    if len(mes) == 1:\n",
    "        mes = \"0\"+mes\n",
    "    falhas_estados = toolkitETL.loop_download_anos_estados(inicio=10, fim=21, diretorio_download=diretorio_cnes_pf_dbc,\n",
    "                                        link=link, prefixo=prefixo, extensao=extensao, lista_estados=lista_estados, ftp=True,\n",
    "                                        texto_adicional_pos_ano=mes)"
   ]
  },
  {
   "cell_type": "code",
   "execution_count": null,
   "metadata": {},
   "outputs": [],
   "source": [
    "\n",
    "# for ano in range(ano_inicio, ano_fim+1):\n",
    "#     for mes in range(mes_inicio, mes_fim+1):\n",
    "#         for estado in lista_estados:\n",
    "#             nome_arquivo = f\"{ano}_{mes}_{ano}_{mes}_{estado}_CNES-ST.csv\"\n",
    "#             caminho_saida = f\"{diretorio_cnes_st_csv}/{nome_arquivo}\"\n",
    "#             if not os.path.exists(caminho_saida):\n",
    "#                 print(f\"{caminho_saida} não existe, baixando...\")\n",
    "#                 toolkitETL.chamar_script_r_microsus(ano, mes, ano, mes, estado, \"CNES-ST\", diretorio_cnes_st_csv, \"process_cnes.R\")\n",
    "#             else:\n",
    "#                 print(f\"{caminho_saida} já existe\")\n"
   ]
  },
  {
   "cell_type": "code",
   "execution_count": 4,
   "metadata": {},
   "outputs": [
    {
     "name": "stdout",
     "output_type": "stream",
     "text": [
      "E:\\Mestrado_pedro\\data\\bronze\\cnes_pf\\csv/2010_1_2010_12_AC_CNES-PF.csv já existe\n"
     ]
    }
   ],
   "source": [
    "\n",
    "# for ano in range(ano_inicio, ano_fim+1):\n",
    "#     for estado in lista_estados:\n",
    "#         nome_arquivo = f\"{ano}_{mes_inicio}_{ano}_{mes_fim}_{estado}_CNES-PF.csv\"\n",
    "#         caminho_saida = f\"{diretorio_cnes_pf_csv}/{nome_arquivo}\"\n",
    "#         if not os.path.exists(caminho_saida):\n",
    "#             toolkitETL.chamar_script_r_microsus(ano, mes_inicio, ano, mes_fim, estado, \"CNES-PF\", diretorio_cnes_pf_csv, \"process_cnes.R\")\n",
    "#         else:\n",
    "#             print(f\"{caminho_saida} já existe\")"
   ]
  }
 ],
 "metadata": {
  "kernelspec": {
   "display_name": ".venv",
   "language": "python",
   "name": "python3"
  },
  "language_info": {
   "codemirror_mode": {
    "name": "ipython",
    "version": 3
   },
   "file_extension": ".py",
   "mimetype": "text/x-python",
   "name": "python",
   "nbconvert_exporter": "python",
   "pygments_lexer": "ipython3",
   "version": "3.8.3"
  }
 },
 "nbformat": 4,
 "nbformat_minor": 2
}
