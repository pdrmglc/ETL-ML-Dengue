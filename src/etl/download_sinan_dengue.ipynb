{
 "cells": [
  {
   "cell_type": "code",
   "execution_count": 6,
   "metadata": {
    "id": "mjzUuMr3V0MB"
   },
   "outputs": [],
   "source": [
    "import os\n",
    "from pathlib import Path\n",
    "import toolkit\n"
   ]
  },
  {
   "cell_type": "code",
   "execution_count": 7,
   "metadata": {},
   "outputs": [],
   "source": [
    "## Estabelecendo diretórios base\n",
    "diretorio_src_etl = os.getcwd()\n",
    "diretorio_src = Path(diretorio_src_etl).parent.absolute()\n",
    "diretorio_base = Path(diretorio_src).parent.absolute()\n",
    "diretorio_data = os.path.join(diretorio_base, 'data')\n",
    "diretorio_bronze = os.path.join(diretorio_data, 'bronze')\n",
    "diretorio_sinan = os.path.join(diretorio_bronze, 'sinan')\n",
    "diretorio_sinan_dbc = os.path.join(diretorio_sinan, 'dbc')\n",
    "diretorio_sinan_csv = os.path.join(diretorio_sinan, 'csv')\n",
    "\n",
    "## Criação de pastas para armazenar os arquivos\n",
    "os.makedirs(os.path.join(diretorio_data), exist_ok=True)\n",
    "os.makedirs(os.path.join(diretorio_bronze), exist_ok=True)\n",
    "os.makedirs(os.path.join(diretorio_sinan), exist_ok=True)\n",
    "os.makedirs(os.path.join(diretorio_sinan_dbc), exist_ok=True)\n",
    "os.makedirs(os.path.join(diretorio_sinan_csv), exist_ok=True)\n",
    "\n",
    "\n"
   ]
  },
  {
   "cell_type": "code",
   "execution_count": 8,
   "metadata": {},
   "outputs": [],
   "source": [
    "link='ftp://ftp.datasus.gov.br/dissemin/publicos/SINAN/DADOS/FINAIS/'\n",
    "prefixo = 'DENGBR'\n",
    "extensao = 'dbc'"
   ]
  },
  {
   "cell_type": "code",
   "execution_count": 9,
   "metadata": {},
   "outputs": [
    {
     "name": "stderr",
     "output_type": "stream",
     "text": [
      "100%|██████████| 2/2 [00:00<00:00, 2003.49it/s]\n"
     ]
    }
   ],
   "source": [
    "falhas = toolkit.loop_download_anos(inicio=10, fim=11, diretorio_download=diretorio_sinan_dbc,\n",
    "                                    link=link, prefixo=prefixo, extensao=extensao, ftp=True)"
   ]
  }
 ],
 "metadata": {
  "colab": {
   "authorship_tag": "ABX9TyPwOUAXplPeVHlkozBD2K4y",
   "mount_file_id": "1KMnk0bXSzHVycLklGRnEp2NGJqNDuODS",
   "provenance": []
  },
  "kernelspec": {
   "display_name": "Python 3 (ipykernel)",
   "language": "python",
   "name": "python3"
  },
  "language_info": {
   "codemirror_mode": {
    "name": "ipython",
    "version": 3
   },
   "file_extension": ".py",
   "mimetype": "text/x-python",
   "name": "python",
   "nbconvert_exporter": "python",
   "pygments_lexer": "ipython3",
   "version": "3.8.3"
  }
 },
 "nbformat": 4,
 "nbformat_minor": 4
}
