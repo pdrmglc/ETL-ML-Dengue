{
 "cells": [
  {
   "cell_type": "code",
   "execution_count": 1,
   "metadata": {},
   "outputs": [
    {
     "data": {
      "text/plain": [
       "<module 'toolkitEngineering' from 'd:\\\\Projetos\\\\ETL-ML-Dengue\\\\src\\\\engineering\\\\toolkitEngineering.py'>"
      ]
     },
     "execution_count": 1,
     "metadata": {},
     "output_type": "execute_result"
    }
   ],
   "source": [
    "import os\n",
    "from pathlib import Path\n",
    "import pandas as pd\n",
    "import numpy as np\n",
    "import toolkitETL\n",
    "import importlib\n",
    "importlib.reload(toolkitETL)"
   ]
  },
  {
   "cell_type": "code",
   "execution_count": 2,
   "metadata": {},
   "outputs": [],
   "source": [
    "## Estabelecendo diretórios base\n",
    "diretorio_src_etl = os.getcwd()\n",
    "diretorio_src = Path(diretorio_src_etl).parent.absolute()\n",
    "diretorio_base = Path(diretorio_src).parent.absolute()\n",
    "diretorio_data = os.path.join(diretorio_base, 'data')\n",
    "\n",
    "# Bronze\n",
    "diretorio_bronze = os.path.join(diretorio_data, 'bronze')\n",
    "diretorio_cnes_st_bronze = os.path.join(diretorio_bronze, 'cnes_st')\n",
    "diretorio_cnes_st_bronze_csv = os.path.join(diretorio_cnes_st_bronze, 'csv')\n",
    "\n",
    "# Silver\n",
    "diretorio_silver = os.path.join(diretorio_data, 'silver')\n",
    "diretorio_cnes_st_silver = os.path.join(diretorio_silver, 'cnes_st')\n",
    "diretorio_cnes_st_silver_tsv = os.path.join(diretorio_cnes_st_silver, 'tsv')\n",
    "\n",
    "## Criação de pastas para armazenar os arquivos\n",
    "os.makedirs(os.path.join(diretorio_data), exist_ok=True)\n",
    "os.makedirs(os.path.join(diretorio_silver), exist_ok=True)\n",
    "os.makedirs(os.path.join(diretorio_cnes_st_silver), exist_ok=True)\n",
    "os.makedirs(os.path.join(diretorio_cnes_st_silver_tsv), exist_ok=True)\n",
    "\n",
    "\n"
   ]
  },
  {
   "cell_type": "code",
   "execution_count": 9,
   "metadata": {},
   "outputs": [
    {
     "data": {
      "text/plain": [
       "['2010_1_2010_12_AC_CNES-ST.tsv', '2020_1_2020_12_AC_CNES-ST.tsv']"
      ]
     },
     "execution_count": 9,
     "metadata": {},
     "output_type": "execute_result"
    }
   ],
   "source": [
    "arquivos_csv = [arquivo for arquivo in os.listdir(diretorio_cnes_st_bronze_csv) if arquivo.endswith(\"csv\")]\n",
    "arquivos_csv = arquivos_csv[-5:]\n",
    "arquivos_tsv = [arquivo.rstrip(\"csv\") + \"tsv\" for arquivo in arquivos_csv]\n",
    "arquivos_tsv"
   ]
  },
  {
   "cell_type": "code",
   "execution_count": 7,
   "metadata": {},
   "outputs": [],
   "source": [
    "colunas_importantes = ['CNES', 'CODUFMUN', 'COMPETEN', 'VINC_SUS', 'PF_PJ', 'NIV_DEP', 'TPGESTAO',\n",
    "                       'ORGEXPED', 'AV_ACRED', 'CLASAVAL', 'AV_PNASS', 'GESPRG1E', 'GESPRG1M',\n",
    "                       'GESPRG2E', 'GESPRG2M', 'GESPRG4E', 'GESPRG4M', 'NIVATE_A', 'GESPRG3E',\n",
    "                       'GESPRG3M', 'GESPRG5E', 'GESPRG5M', 'GESPRG6E', 'GESPRG6M', 'NIVATE_H',\n",
    "                       'QTLEITP1', 'QTLEITP2', 'QTLEITP3', 'LEITHOSP', 'QTINST01', 'QTINST02',\n",
    "                       'QTINST03', 'QTINST04', 'QTINST05', 'QTINST06', 'QTINST07', 'QTINST08', \n",
    "                       'QTINST09', 'QTINST10', 'QTINST11', 'QTINST12', 'QTINST13', 'QTINST14',\n",
    "                       'URGEMERG', \"QTINST15\", \"QTINST16\", \"QTINST17\", \"QTINST18\", \"QTINST19\", \n",
    "                       \"QTINST20\", \"QTINST21\", \"QTINST22\", \"QTINST23\", \"QTINST24\", \"QTINST25\", \n",
    "                       \"QTINST26\", \"QTINST27\", \"QTINST28\", \"QTINST29\", \"QTINST30\", \"ATENDAMB\",\n",
    "                       \"QTINST31\", \"QTINST32\", \"QTINST33\", \"CENTRCIR\", \"QTINST34\", \"QTINST35\", \n",
    "                       \"QTINST36\", \"QTINST37\", \"CENTROBS\", \"QTLEIT05\", \"QTLEIT06\", \"QTLEIT07\", \n",
    "                       \"QTLEIT08\", \"QTLEIT09\", \"QTLEIT19\", \"QTLEIT20\", \"QTLEIT21\", \"QTLEIT22\", \n",
    "                       \"QTLEIT23\", \"QTLEIT32\", \"QTLEIT34\", \"QTLEIT38\", \"QTLEIT39\", \"QTLEIT40\",\n",
    "                       \"CENTRNEO\", \"ATENDHOS\", \"SERAP01P\", \"SERAP01T\", \"SERAP02P\", \"SERAP02T\", \n",
    "                       \"SERAP03P\", \"SERAP03T\", \"SERAP04P\", \"SERAP04T\", \"SERAP05P\", \"SERAP05T\", \n",
    "                       \"SERAP06P\", \"SERAP06T\", \"SERAP07P\", \"SERAP07T\", \"SERAP08P\", \"SERAP08T\", \n",
    "                       \"SERAP09P\", \"SERAP09T\", \"SERAP10P\", \"SERAP10T\", \"SERAP11P\", \"SERAP11T\", \n",
    "                       \"SERAPOIO\", \"RES_BIOL\", \"RES_QUIM\", \"RES_RADI\", \"RES_COMU\", \"COLETRES\", \n",
    "                       \"COMISS01\", \"COMISS02\", \"COMISS03\", \"COMISS04\", \"COMISS05\", \"COMISS06\", \n",
    "                       \"COMISS07\", \"COMISS08\", \"COMISS09\", \"COMISS10\", \"COMISS11\", \"COMISS12\", \n",
    "                       \"COMISSAO\", \"AP01CV01\", \"AP01CV02\", \"AP01CV03\", \"AP01CV04\", \"AP01CV05\", \n",
    "                       \"AP01CV06\", \"AP02CV01\", \"AP02CV02\", \"AP02CV03\", \"AP02CV04\", \"AP02CV05\", \n",
    "                       \"AP02CV06\", \"AP03CV01\", \"AP03CV02\", \"AP03CV03\", \"AP03CV04\", \"AP03CV05\", \n",
    "                       \"AP03CV06\", \"AP04CV01\", \"AP04CV02\", \"AP04CV03\", \"AP04CV04\", \"AP04CV05\", \n",
    "                       \"AP04CV06\", \"AP05CV01\", \"AP05CV02\", \"AP05CV03\", \"AP05CV04\", \"AP05CV05\", \n",
    "                       \"AP05CV06\", \"AP06CV01\", \"AP06CV02\", \"AP06CV03\", \"AP06CV04\", \"AP06CV05\", \n",
    "                       \"AP06CV06\", \"AP07CV01\", \"AP07CV02\", \"AP07CV03\", \"AP07CV04\", \"AP07CV05\", \n",
    "                       \"AP07CV06\", \"ATEND_PR\"\n",
    "\n",
    "\n",
    "\n",
    "\n",
    "]\n",
    "\n",
    "colunas_decodificar = {\n",
    "    'GESPRG1E':\n",
    "    {1: \"Sim\",\n",
    "    0: \"Não\"},\n",
    "}\n",
    "\n",
    "column_map = []\n",
    "\n",
    "columns_to_convert = []"
   ]
  },
  {
   "cell_type": "code",
   "execution_count": 8,
   "metadata": {},
   "outputs": [],
   "source": [
    "for arquivo_csv, arquivo_tsv in zip(arquivos_csv, arquivos_tsv):\n",
    "    df = pd.read_csv(os.path.join(diretorio_cnes_st_bronze_csv, arquivo_csv), sep=',')\n",
    "\n",
    "    for coluna in colunas_importantes:\n",
    "        if coluna not in df.columns:\n",
    "            df[coluna] = np.nan\n",
    "            continue\n",
    "    df = df[colunas_importantes]\n",
    "\n",
    "    for coluna in colunas_decodificar:\n",
    "        df[coluna] = df[coluna].apply(lambda x: toolkitETL.aplicar_decoficador(x, coluna, colunas_decodificar))\n",
    "    df.replace(\"NA\", np.nan, inplace=True)\n",
    "    df.replace(\"\", np.nan, inplace=True)\n",
    "    df = df.applymap(lambda x: x.strip('\"') if isinstance(x, str) else x)\n",
    "    df['NU_MES'] = df['COMPETEN'].apply(lambda x: str(x)[-2:].lstrip(\"0\"))\n",
    "    df['NU_ANO'] = df['COMPETEN'].apply(lambda x: str(x)[:4])\n",
    "    # df = df.rename(columns=column_map)\n",
    "    \n",
    "    df.columns = df.columns.str.lower()\n",
    "    \n",
    "    # for column in columns_to_convert:\n",
    "    #     df[column] = pd.to_numeric(df[column], errors='coerce').astype('Int64')\n",
    "\n",
    "    df.to_csv(os.path.join(diretorio_cnes_st_silver_tsv, arquivo_tsv), sep='\\t', index=False)"
   ]
  },
  {
   "cell_type": "code",
   "execution_count": 14,
   "metadata": {},
   "outputs": [],
   "source": [
    "diretorio_dotenv = os.path.join(diretorio_base, \".env\")\n",
    "\n",
    "cursor, conn = toolkitETL.conectar_banco(diretorio_dotenv)\n",
    "for arquivo_tsv in arquivos_tsv:\n",
    "    \n",
    "    caminho_arquivo = os.path.join(diretorio_cnes_st_silver_tsv, arquivo_tsv)\n",
    "    toolkitETL.inserir_no_banco(cursor, conn, caminho_arquivo, 'cnes_st', delimiter='\\t',\n",
    "                                        diretorio_dotenv=diretorio_dotenv)\n"
   ]
  }
 ],
 "metadata": {
  "kernelspec": {
   "display_name": ".venv",
   "language": "python",
   "name": "python3"
  },
  "language_info": {
   "codemirror_mode": {
    "name": "ipython",
    "version": 3
   },
   "file_extension": ".py",
   "mimetype": "text/x-python",
   "name": "python",
   "nbconvert_exporter": "python",
   "pygments_lexer": "ipython3",
   "version": "3.8.3"
  }
 },
 "nbformat": 4,
 "nbformat_minor": 2
}
