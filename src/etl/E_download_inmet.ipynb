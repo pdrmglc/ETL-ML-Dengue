{
 "cells": [
  {
   "cell_type": "code",
   "execution_count": 1,
   "metadata": {},
   "outputs": [
    {
     "data": {
      "text/plain": [
       "<module 'toolkitETL' from 'd:\\\\Projetos\\\\ETL-ML-Dengue\\\\src\\\\etl\\\\toolkitETL.py'>"
      ]
     },
     "execution_count": 1,
     "metadata": {},
     "output_type": "execute_result"
    }
   ],
   "source": [
    "import os\n",
    "from pathlib import Path\n",
    "import toolkitETL\n",
    "import importlib\n",
    "importlib.reload(toolkitETL)"
   ]
  },
  {
   "cell_type": "code",
   "execution_count": 2,
   "metadata": {},
   "outputs": [],
   "source": [
    "## Estabelecendo diretórios base\n",
    "diretorio_src_etl = os.getcwd()\n",
    "diretorio_src = Path(diretorio_src_etl).parent.absolute()\n",
    "diretorio_base = Path(diretorio_src).parent.absolute()\n",
    "diretorio_data = os.path.join(diretorio_base, 'data')\n",
    "diretorio_bronze = os.path.join(diretorio_data, 'bronze')\n",
    "diretorio_inmet = os.path.join(diretorio_bronze, 'inmet')\n",
    "diretorio_inmet_zip = os.path.join(diretorio_inmet, 'zip')\n",
    "diretorio_inmet_csv = os.path.join(diretorio_inmet, 'csv')\n",
    "\n",
    "## Criação de pastas para armazenar os arquivos\n",
    "os.makedirs(os.path.join(diretorio_data), exist_ok=True)\n",
    "os.makedirs(os.path.join(diretorio_bronze), exist_ok=True)\n",
    "os.makedirs(os.path.join(diretorio_inmet), exist_ok=True)\n",
    "os.makedirs(os.path.join(diretorio_inmet_zip), exist_ok=True)\n",
    "os.makedirs(os.path.join(diretorio_inmet_csv), exist_ok=True)\n",
    "\n"
   ]
  },
  {
   "cell_type": "code",
   "execution_count": 3,
   "metadata": {},
   "outputs": [],
   "source": [
    "link='https://portal.inmet.gov.br/uploads/dadoshistoricos/'\n",
    "prefixo = '20'\n",
    "extensao = '.zip'"
   ]
  },
  {
   "cell_type": "code",
   "execution_count": 6,
   "metadata": {},
   "outputs": [
    {
     "name": "stderr",
     "output_type": "stream",
     "text": [
      "100%|██████████| 12/12 [03:54<00:00, 19.52s/it]\n"
     ]
    }
   ],
   "source": [
    "falhas = toolkitETL.loop_download_anos(inicio=10, fim=21, diretorio_download=diretorio_inmet_zip,\n",
    "                                    link=link, prefixo=prefixo, extensao=extensao, ftp=False)"
   ]
  },
  {
   "cell_type": "code",
   "execution_count": 7,
   "metadata": {},
   "outputs": [],
   "source": [
    "toolkitETL.unzip_and_move_csv(diretorio_inmet_zip, diretorio_inmet_csv, extensao_extraido=\"csv\")"
   ]
  }
 ],
 "metadata": {
  "kernelspec": {
   "display_name": ".venv",
   "language": "python",
   "name": "python3"
  },
  "language_info": {
   "codemirror_mode": {
    "name": "ipython",
    "version": 3
   },
   "file_extension": ".py",
   "mimetype": "text/x-python",
   "name": "python",
   "nbconvert_exporter": "python",
   "pygments_lexer": "ipython3",
   "version": "3.8.3"
  }
 },
 "nbformat": 4,
 "nbformat_minor": 2
}
