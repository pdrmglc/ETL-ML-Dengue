{
 "cells": [
  {
   "cell_type": "code",
   "execution_count": 6,
   "metadata": {},
   "outputs": [
    {
     "data": {
      "text/plain": [
       "<module 'toolkitETL' from 'd:\\\\Pedro\\\\Mestrado\\\\ETL-ML-Dengue\\\\src\\\\etl\\\\toolkitETL.py'>"
      ]
     },
     "execution_count": 6,
     "metadata": {},
     "output_type": "execute_result"
    }
   ],
   "source": [
    "import os\n",
    "from pathlib import Path\n",
    "import pandas as pd\n",
    "import numpy as np\n",
    "import toolkitETL\n",
    "import importlib\n",
    "importlib.reload(toolkitETL)"
   ]
  },
  {
   "cell_type": "code",
   "execution_count": 7,
   "metadata": {},
   "outputs": [],
   "source": [
    "## Estabelecendo diretórios base\n",
    "diretorio_src_etl = os.getcwd()\n",
    "diretorio_src = Path(diretorio_src_etl).parent.absolute()\n",
    "diretorio_base = Path(diretorio_src).parent.absolute()\n",
    "diretorio_base = \"F:\\\\Mestrado_pedro\"\n",
    "diretorio_data = os.path.join(diretorio_base, 'data')\n",
    "\n",
    "# Bronze\n",
    "diretorio_bronze = os.path.join(diretorio_data, 'bronze')\n",
    "diretorio_cnes_pf_bronze = os.path.join(diretorio_bronze, 'cnes_pf')\n",
    "diretorio_cnes_pf_bronze_csv = os.path.join(diretorio_cnes_pf_bronze, 'csv')\n",
    "\n",
    "# Silver\n",
    "diretorio_silver = os.path.join(diretorio_data, 'silver')\n",
    "diretorio_cnes_pf_silver = os.path.join(diretorio_silver, 'cnes_pf')\n",
    "diretorio_cnes_pf_silver_tsv = os.path.join(diretorio_cnes_pf_silver, 'tsv')\n",
    "\n",
    "## Criação de pastas para armazenar os arquivos\n",
    "os.makedirs(os.path.join(diretorio_data), exist_ok=True)\n",
    "os.makedirs(os.path.join(diretorio_silver), exist_ok=True)\n",
    "os.makedirs(os.path.join(diretorio_cnes_pf_silver), exist_ok=True)\n",
    "os.makedirs(os.path.join(diretorio_cnes_pf_silver_tsv), exist_ok=True)\n",
    "\n",
    "\n"
   ]
  },
  {
   "cell_type": "code",
   "execution_count": 8,
   "metadata": {},
   "outputs": [
    {
     "data": {
      "text/plain": [
       "['2010_1_2010_12_AC_CNES-PF.tsv', '2020_1_2020_12_AC_CNES-PF.tsv']"
      ]
     },
     "execution_count": 8,
     "metadata": {},
     "output_type": "execute_result"
    }
   ],
   "source": [
    "arquivos_csv = [arquivo for arquivo in os.listdir(diretorio_cnes_pf_bronze_csv) if arquivo.endswith(\"csv\")]\n",
    "arquivos_csv = arquivos_csv[-5:]\n",
    "arquivos_tsv = [arquivo.rstrip(\"csv\") + \"tsv\" for arquivo in arquivos_csv]\n",
    "arquivos_tsv"
   ]
  },
  {
   "cell_type": "code",
   "execution_count": 9,
   "metadata": {},
   "outputs": [],
   "source": [
    "colunas_importantes_drop_dupli = [\"CNES\", \"CODUFMUN\", \"CPF_PROF\", \"CBO\", \"VINCUL_C\", \"VINCUL_A\", \n",
    "                       \"VINCUL_N\", \"PROF_SUS\", \"PROFNSUS\", \"HORAOUTR\", \"HORAHOSP\", \"HORA_AMB\",\n",
    "                       \"COMPETEN\", \"nome\"\n",
    "]\n",
    "\n",
    "colunas_importantes = [\"CNES\", \"CODUFMUN\", \"VINCUL_C\", \"VINCUL_A\", \n",
    "                       \"VINCUL_N\", \"PROF_SUS\", \"PROFNSUS\", \"HORAOUTR\", \"HORAHOSP\", \"HORA_AMB\",\n",
    "                       \"COMPETEN\", \"nome\"\n",
    "]\n",
    "\n",
    "colunas_decodificar = {\n",
    "    'VINCUL_C':\n",
    "    {1: \"Sim\",\n",
    "    0: \"Não\"},\n",
    "    'VINCUL_A':\n",
    "    {1: \"Sim\",\n",
    "    0: \"Não\"},\n",
    "    'VINCUL_N':\n",
    "    {1: \"Sim\",\n",
    "    0: \"Não\"},\n",
    "    'PROF_SUS':\n",
    "    {1: \"Sim\",\n",
    "    0: \"Não\"},\n",
    "    'PROFNSUS':\n",
    "    {1: \"Sim\",\n",
    "    0: \"Não\"},\n",
    "}\n",
    "\n",
    "column_map = {\n",
    "    \"nome\": \"nome_cargo\"\n",
    "}\n",
    "\n",
    "columns_to_convert = []"
   ]
  },
  {
   "cell_type": "code",
   "execution_count": 10,
   "metadata": {},
   "outputs": [],
   "source": [
    "for arquivo_csv, arquivo_tsv in zip(arquivos_csv, arquivos_tsv):\n",
    "    df = pd.read_csv(os.path.join(diretorio_cnes_pf_bronze_csv, arquivo_csv), sep=',')\n",
    "\n",
    "    for coluna in colunas_importantes_drop_dupli:\n",
    "        if coluna not in df.columns:\n",
    "            df[coluna] = np.nan\n",
    "            continue\n",
    "    df = df[colunas_importantes_drop_dupli]\n",
    "    df = df.drop_duplicates()\n",
    "    df = df[colunas_importantes]\n",
    "\n",
    "\n",
    "    for coluna in colunas_decodificar:\n",
    "        df[coluna] = df[coluna].apply(lambda x: toolkitETL.aplicar_decoficador(x, coluna, colunas_decodificar))\n",
    "    df.replace(\"NA\", np.nan, inplace=True)\n",
    "    df.replace(\"\", np.nan, inplace=True)\n",
    "    df = df.applymap(lambda x: x.strip('\"') if isinstance(x, str) else x)\n",
    "    df['NU_MES'] = df['COMPETEN'].apply(lambda x: str(x)[-2:].lstrip(\"0\"))\n",
    "    df['NU_ANO'] = df['COMPETEN'].apply(lambda x: str(x)[:4])\n",
    "    \n",
    "    df.columns = df.columns.str.lower()\n",
    "\n",
    "    df.to_csv(os.path.join(diretorio_cnes_pf_silver_tsv, arquivo_tsv), sep='\\t', index=False)"
   ]
  },
  {
   "cell_type": "code",
   "execution_count": 4,
   "metadata": {},
   "outputs": [],
   "source": [
    "diretorio_dotenv = os.path.join(diretorio_base, \".env\")\n",
    "\n",
    "cursor, conn = toolkitETL.conectar_banco(diretorio_dotenv)\n",
    "for arquivo_tsv in arquivos_tsv:\n",
    "    \n",
    "    caminho_arquivo = os.path.join(diretorio_cnes_pf_silver_tsv, arquivo_tsv)\n",
    "    toolkitETL.inserir_no_banco(cursor, conn, caminho_arquivo, 'cnes_pf', delimiter='\\t',\n",
    "                                        diretorio_dotenv=diretorio_dotenv)\n"
   ]
  }
 ],
 "metadata": {
  "kernelspec": {
   "display_name": ".venv",
   "language": "python",
   "name": "python3"
  },
  "language_info": {
   "codemirror_mode": {
    "name": "ipython",
    "version": 3
   },
   "file_extension": ".py",
   "mimetype": "text/x-python",
   "name": "python",
   "nbconvert_exporter": "python",
   "pygments_lexer": "ipython3",
   "version": "3.9.6"
  }
 },
 "nbformat": 4,
 "nbformat_minor": 2
}
