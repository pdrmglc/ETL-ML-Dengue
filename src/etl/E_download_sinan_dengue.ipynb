{
 "cells": [
  {
   "cell_type": "code",
   "execution_count": 1,
   "metadata": {
    "id": "mjzUuMr3V0MB"
   },
   "outputs": [
    {
     "data": {
      "text/plain": [
       "<module 'toolkitETL' from 'd:\\\\Pedro\\\\Mestrado\\\\ETL-ML-Dengue\\\\src\\\\etl\\\\toolkitETL.py'>"
      ]
     },
     "execution_count": 1,
     "metadata": {},
     "output_type": "execute_result"
    }
   ],
   "source": [
    "import os\n",
    "from pathlib import Path\n",
    "import toolkitETL\n",
    "import importlib\n",
    "importlib.reload(toolkitETL)\n"
   ]
  },
  {
   "cell_type": "code",
   "execution_count": 2,
   "metadata": {},
   "outputs": [],
   "source": [
    "## Estabelecendo diretórios base\n",
    "diretorio_src_etl = os.getcwd()\n",
    "diretorio_src = Path(diretorio_src_etl).parent.absolute()\n",
    "diretorio_base = Path(diretorio_src).parent.absolute()\n",
    "diretorio_base = \"F:\\\\Mestrado_pedro\"\n",
    "diretorio_data = os.path.join(diretorio_base, 'data')\n",
    "diretorio_bronze = os.path.join(diretorio_data, 'bronze')\n",
    "diretorio_sinan = os.path.join(diretorio_bronze, 'sinan')\n",
    "diretorio_sinan_dbc = os.path.join(diretorio_sinan, 'dbc')\n",
    "diretorio_sinan_csv = os.path.join(diretorio_sinan, 'csv')\n",
    "\n",
    "## Criação de pastas para armazenar os arquivos\n",
    "os.makedirs(os.path.join(diretorio_data), exist_ok=True)\n",
    "os.makedirs(os.path.join(diretorio_bronze), exist_ok=True)\n",
    "os.makedirs(os.path.join(diretorio_sinan), exist_ok=True)\n",
    "os.makedirs(os.path.join(diretorio_sinan_dbc), exist_ok=True)\n",
    "os.makedirs(os.path.join(diretorio_sinan_csv), exist_ok=True)\n",
    "\n",
    "\n"
   ]
  },
  {
   "cell_type": "code",
   "execution_count": 10,
   "metadata": {},
   "outputs": [],
   "source": [
    "link='ftp://ftp.datasus.gov.br/dissemin/publicos/SINAN/DADOS/FINAIS/'\n",
    "# link='ftp://ftp.datasus.gov.br/dissemin/publicos/SINAN/DADOS/PRELIM/'\n",
    "\n",
    "prefixo = 'DENGBR'\n",
    "extensao = '.dbc'"
   ]
  },
  {
   "cell_type": "code",
   "execution_count": 12,
   "metadata": {},
   "outputs": [
    {
     "name": "stderr",
     "output_type": "stream",
     "text": [
      "  0%|          | 0/2 [00:00<?, ?it/s]"
     ]
    },
    {
     "name": "stdout",
     "output_type": "stream",
     "text": [
      "ftp://ftp.datasus.gov.br/dissemin/publicos/SINAN/DADOS/PRELIM/DENGBR23.dbc\n"
     ]
    },
    {
     "name": "stderr",
     "output_type": "stream",
     "text": [
      " 50%|█████     | 1/2 [00:21<00:21, 21.29s/it]"
     ]
    },
    {
     "name": "stdout",
     "output_type": "stream",
     "text": [
      "ftp://ftp.datasus.gov.br/dissemin/publicos/SINAN/DADOS/PRELIM/DENGBR24.dbc\n"
     ]
    },
    {
     "name": "stderr",
     "output_type": "stream",
     "text": [
      "                                             \r"
     ]
    }
   ],
   "source": [
    "falhas = toolkitETL.loop_download_anos(inicio=23, fim=24, diretorio_download=diretorio_sinan_dbc,\n",
    "                                    link=link, prefixo=prefixo, extensao=extensao, ftp=True)\n"
   ]
  },
  {
   "cell_type": "code",
   "execution_count": 16,
   "metadata": {},
   "outputs": [
    {
     "name": "stdout",
     "output_type": "stream",
     "text": [
      "[1] \"Arquivo F:\\\\Mestrado_pedro\\\\data\\\\bronze\\\\sinan\\\\csv/DENGBR00.csv jÃ¡ existe. Pulando a conversÃ£o.\"\n",
      "[1] \"Arquivo F:\\\\Mestrado_pedro\\\\data\\\\bronze\\\\sinan\\\\csv/DENGBR01.csv jÃ¡ existe. Pulando a conversÃ£o.\"\n",
      "[1] \"Arquivo F:\\\\Mestrado_pedro\\\\data\\\\bronze\\\\sinan\\\\csv/DENGBR02.csv jÃ¡ existe. Pulando a conversÃ£o.\"\n",
      "[1] \"Arquivo F:\\\\Mestrado_pedro\\\\data\\\\bronze\\\\sinan\\\\csv/DENGBR03.csv jÃ¡ existe. Pulando a conversÃ£o.\"\n",
      "[1] \"Arquivo F:\\\\Mestrado_pedro\\\\data\\\\bronze\\\\sinan\\\\csv/DENGBR04.csv jÃ¡ existe. Pulando a conversÃ£o.\"\n",
      "[1] \"Arquivo F:\\\\Mestrado_pedro\\\\data\\\\bronze\\\\sinan\\\\csv/DENGBR05.csv jÃ¡ existe. Pulando a conversÃ£o.\"\n",
      "[1] \"Arquivo F:\\\\Mestrado_pedro\\\\data\\\\bronze\\\\sinan\\\\csv/DENGBR06.csv jÃ¡ existe. Pulando a conversÃ£o.\"\n",
      "[1] \"Arquivo F:\\\\Mestrado_pedro\\\\data\\\\bronze\\\\sinan\\\\csv/DENGBR07.csv jÃ¡ existe. Pulando a conversÃ£o.\"\n",
      "[1] \"Erro ao ler o arquivo: F:\\\\Mestrado_pedro\\\\data\\\\bronze\\\\sinan\\\\dbc/DENGBR08.dbc\"\n",
      "<simpleError in strptime(x, format, tz = \"GMT\"): string de entrada Ã© muito longa>\n",
      "[1] \"Arquivo F:\\\\Mestrado_pedro\\\\data\\\\bronze\\\\sinan\\\\csv/DENGBR09.csv jÃ¡ existe. Pulando a conversÃ£o.\"\n",
      "[1] \"Arquivo F:\\\\Mestrado_pedro\\\\data\\\\bronze\\\\sinan\\\\csv/DENGBR10.csv jÃ¡ existe. Pulando a conversÃ£o.\"\n",
      "[1] \"Arquivo F:\\\\Mestrado_pedro\\\\data\\\\bronze\\\\sinan\\\\csv/DENGBR11.csv jÃ¡ existe. Pulando a conversÃ£o.\"\n",
      "[1] \"Arquivo F:\\\\Mestrado_pedro\\\\data\\\\bronze\\\\sinan\\\\csv/DENGBR12.csv jÃ¡ existe. Pulando a conversÃ£o.\"\n",
      "[1] \"Arquivo F:\\\\Mestrado_pedro\\\\data\\\\bronze\\\\sinan\\\\csv/DENGBR13.csv jÃ¡ existe. Pulando a conversÃ£o.\"\n",
      "[1] \"Arquivo F:\\\\Mestrado_pedro\\\\data\\\\bronze\\\\sinan\\\\csv/DENGBR14.csv jÃ¡ existe. Pulando a conversÃ£o.\"\n",
      "[1] \"Arquivo F:\\\\Mestrado_pedro\\\\data\\\\bronze\\\\sinan\\\\csv/DENGBR15.csv jÃ¡ existe. Pulando a conversÃ£o.\"\n",
      "[1] \"Arquivo F:\\\\Mestrado_pedro\\\\data\\\\bronze\\\\sinan\\\\csv/DENGBR16.csv jÃ¡ existe. Pulando a conversÃ£o.\"\n",
      "[1] \"Arquivo F:\\\\Mestrado_pedro\\\\data\\\\bronze\\\\sinan\\\\csv/DENGBR17.csv jÃ¡ existe. Pulando a conversÃ£o.\"\n",
      "[1] \"Arquivo F:\\\\Mestrado_pedro\\\\data\\\\bronze\\\\sinan\\\\csv/DENGBR18.csv jÃ¡ existe. Pulando a conversÃ£o.\"\n",
      "[1] \"Arquivo F:\\\\Mestrado_pedro\\\\data\\\\bronze\\\\sinan\\\\csv/DENGBR19.csv jÃ¡ existe. Pulando a conversÃ£o.\"\n",
      "[1] \"Arquivo F:\\\\Mestrado_pedro\\\\data\\\\bronze\\\\sinan\\\\csv/DENGBR20.csv jÃ¡ existe. Pulando a conversÃ£o.\"\n",
      "[1] \"Arquivo F:\\\\Mestrado_pedro\\\\data\\\\bronze\\\\sinan\\\\csv/DENGBR21.csv jÃ¡ existe. Pulando a conversÃ£o.\"\n",
      "[1] \"Arquivo F:\\\\Mestrado_pedro\\\\data\\\\bronze\\\\sinan\\\\csv/DENGBR22.csv jÃ¡ existe. Pulando a conversÃ£o.\"\n",
      "[1] \"Arquivo F:\\\\Mestrado_pedro\\\\data\\\\bronze\\\\sinan\\\\csv/DENGBR23.csv jÃ¡ existe. Pulando a conversÃ£o.\"\n",
      "[1] \"Arquivo F:\\\\Mestrado_pedro\\\\data\\\\bronze\\\\sinan\\\\csv/DENGBR24.csv jÃ¡ existe. Pulando a conversÃ£o.\"\n",
      "\n"
     ]
    }
   ],
   "source": [
    "# Defina os diretórios de entrada e saída\n",
    "input_dir = diretorio_sinan_dbc\n",
    "output_dir = diretorio_sinan_csv\n",
    "r_script_path = \"D:\\Pedro\\Mestrado\\ETL-ML-Dengue\\src\\etl\\dbc2csv.R\"\n",
    "\n",
    "# Chama a função\n",
    "toolkitETL.run_r_script_dbc2csv(input_dir, output_dir, r_script_path)\n"
   ]
  }
 ],
 "metadata": {
  "colab": {
   "authorship_tag": "ABX9TyPwOUAXplPeVHlkozBD2K4y",
   "mount_file_id": "1KMnk0bXSzHVycLklGRnEp2NGJqNDuODS",
   "provenance": []
  },
  "kernelspec": {
   "display_name": "Python 3 (ipykernel)",
   "language": "python",
   "name": "python3"
  },
  "language_info": {
   "codemirror_mode": {
    "name": "ipython",
    "version": 3
   },
   "file_extension": ".py",
   "mimetype": "text/x-python",
   "name": "python",
   "nbconvert_exporter": "python",
   "pygments_lexer": "ipython3",
   "version": "3.9.6"
  }
 },
 "nbformat": 4,
 "nbformat_minor": 4
}
