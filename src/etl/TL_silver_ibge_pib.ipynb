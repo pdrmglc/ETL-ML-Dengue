{
 "cells": [
  {
   "cell_type": "code",
   "execution_count": 1,
   "metadata": {},
   "outputs": [
    {
     "data": {
      "text/plain": [
       "<module 'toolkitETL' from 'c:\\\\Users\\\\pedro\\\\OneDrive\\\\Área de Trabalho\\\\Pedro\\\\Portifolio\\\\ETL-ML-Dengue\\\\src\\\\etl\\\\toolkitETL.py'>"
      ]
     },
     "execution_count": 1,
     "metadata": {},
     "output_type": "execute_result"
    }
   ],
   "source": [
    "import pandas as pd\n",
    "import os\n",
    "from pathlib import Path\n",
    "import toolkitETL\n",
    "import importlib\n",
    "importlib.reload(toolkitETL)\n",
    "\n"
   ]
  },
  {
   "cell_type": "code",
   "execution_count": 2,
   "metadata": {},
   "outputs": [],
   "source": [
    "## Estabelecendo diretórios base\n",
    "diretorio_src_etl = os.getcwd()\n",
    "diretorio_src = Path(diretorio_src_etl).parent.absolute()\n",
    "diretorio_base = Path(diretorio_src).parent.absolute()\n",
    "diretorio_base = \"D:\\\\Mestrado_pedro\"\n",
    "diretorio_data = os.path.join(diretorio_base, 'data')\n",
    "\n",
    "# Bronze\n",
    "diretorio_bronze = os.path.join(diretorio_data, 'bronze')\n",
    "diretorio_ibge_pib = os.path.join(diretorio_bronze, 'ibge_pib')\n",
    "diretorio_ibge_pib_tsv = os.path.join(diretorio_ibge_pib, 'tsv')\n",
    "\n",
    "# Silver\n",
    "diretorio_silver = os.path.join(diretorio_data, 'silver')\n",
    "diretorio_ibge_pib_silver = os.path.join(diretorio_silver, 'ibge_pib')\n",
    "diretorio_ibge_pib_tsv_silver = os.path.join(diretorio_ibge_pib_silver, 'tsv')\n",
    "\n",
    "\n",
    "## Criação de pastas para armazenar os arquivos\n",
    "os.makedirs(os.path.join(diretorio_data), exist_ok=True)\n",
    "\n",
    "# Bronze\n",
    "os.makedirs(os.path.join(diretorio_bronze), exist_ok=True)\n",
    "os.makedirs(os.path.join(diretorio_ibge_pib), exist_ok=True)\n",
    "os.makedirs(os.path.join(diretorio_ibge_pib_tsv), exist_ok=True)\n",
    "\n",
    "# Silver\n",
    "os.makedirs(os.path.join(diretorio_silver), exist_ok=True)\n",
    "os.makedirs(os.path.join(diretorio_ibge_pib_silver), exist_ok=True)\n",
    "os.makedirs(os.path.join(diretorio_ibge_pib_tsv_silver), exist_ok=True)\n",
    "\n"
   ]
  },
  {
   "cell_type": "code",
   "execution_count": 3,
   "metadata": {},
   "outputs": [
    {
     "data": {
      "text/plain": [
       "['pib dos municípios - base de dados 2010-2021.tsv']"
      ]
     },
     "execution_count": 3,
     "metadata": {},
     "output_type": "execute_result"
    }
   ],
   "source": [
    "arquivos_tsv = [arquivo for arquivo in os.listdir(diretorio_ibge_pib_tsv) if arquivo.endswith(\"tsv\")]\n",
    "arquivos_tsv"
   ]
  },
  {
   "cell_type": "code",
   "execution_count": 48,
   "metadata": {},
   "outputs": [],
   "source": [
    "column_map = {\n",
    "    'Ano': 'Ano_Notificacao',\n",
    "    'Código da Grande Região': 'Codigo_Grande_Regiao',\n",
    "    'Nome da Grande Região': 'Nome_Grande_Regiao',\n",
    "    'Código da Unidade da Federação': 'Codigo_UF',\n",
    "    'Sigla da Unidade da Federação': 'UF',\n",
    "    'Nome da Unidade da Federação': 'Nome_UF',\n",
    "    'Código do Município': 'Codigo_Municipio_completo',\n",
    "    'Nome do Município': 'Municipio',\n",
    "    'Região Metropolitana': 'Regiao_Metropolitana',\n",
    "    'Código da Mesorregião': 'Codigo_Mesorregiao',\n",
    "    'Nome da Mesorregião': 'Nome_Mesorregiao',\n",
    "    'Código da Microrregião': 'Codigo_Microrregiao',\n",
    "    'Nome da Microrregião': 'Nome_Microrregiao',\n",
    "    'Código da Região Geográfica Imediata': 'Codigo_Regiao_Imediata',\n",
    "    'Nome da Região Geográfica Imediata': 'Nome_Regiao_Imediata',\n",
    "    'Município da Região Geográfica Imediata': 'Municipio_Regiao_Imediata',\n",
    "    'Código da Região Geográfica Intermediária': 'Codigo_Regiao_Intermediaria',\n",
    "    'Nome da Região Geográfica Intermediária': 'Nome_Regiao_Intermediaria',\n",
    "    'Município da Região Geográfica Intermediária': 'Municipio_Regiao_Intermediaria',\n",
    "    'Código Concentração Urbana': 'Codigo_Concentracao_Urbana',\n",
    "    'Nome Concentração Urbana': 'Nome_Concentracao_Urbana',\n",
    "    'Tipo Concentração Urbana': 'Tipo_Concentracao_Urbana',\n",
    "    'Código Arranjo Populacional': 'Codigo_Arranjo_Populacional',\n",
    "    'Nome Arranjo Populacional': 'Nome_Arranjo_Populacional',\n",
    "    'Hierarquia Urbana': 'Hierarquia_Urbana',\n",
    "    'Hierarquia Urbana (principais categorias)': 'Hierarquia_Urbana_Principais_Categorias',\n",
    "    'Código da Região Rural': 'Codigo_Regiao_Rural',\n",
    "    'Nome da Região Rural': 'Nome_Regiao_Rural',\n",
    "    'Região rural (segundo classificação do núcleo)': 'Regiao_Rural_Classificacao_Nucleo',\n",
    "    'Amazônia Legal': 'Amazonia_Legal',\n",
    "    'Semiárido': 'Semiarido',\n",
    "    'Cidade-Região de São Paulo': 'Cidade_Regiao_de_Sao_Paulo',\n",
    "    'Valor adicionado bruto da Agropecuária, \\na preços correntes\\n(R$ 1.000)': 'VAB_Agropecuaria',\n",
    "    'Valor adicionado bruto da Indústria,\\na preços correntes\\n(R$ 1.000)': 'VAB_Industria',\n",
    "    'Valor adicionado bruto dos Serviços,\\na preços correntes \\n- exceto Administração, defesa, educação e saúde públicas e seguridade social\\n(R$ 1.000)': 'VAB_Servicos',\n",
    "    'Valor adicionado bruto da Administração, defesa, educação e saúde públicas e seguridade social, \\na preços correntes\\n(R$ 1.000)': 'VAB_Adm_Publica',\n",
    "    'Valor adicionado bruto total, \\na preços correntes\\n(R$ 1.000)': 'VAB_Total',\n",
    "    'Impostos, líquidos de subsídios, sobre produtos, \\na preços correntes\\n(R$ 1.000)': 'Impostos',\n",
    "    'Produto Interno Bruto, \\na preços correntes\\n(R$ 1.000)': 'PIB',\n",
    "    'Produto Interno Bruto per capita, \\na preços correntes\\n(R$ 1,00)': 'PIB_Per_Capita',\n",
    "    'Atividade com maior valor adicionado bruto': 'Atividade_Maior_VAB',\n",
    "    'Atividade com segundo maior valor adicionado bruto': 'Atividade_Seg_Maior_VAB',\n",
    "    'Atividade com terceiro maior valor adicionado bruto': 'Atividade_Ter_Maior_VAB'\n",
    "}\n",
    "\n",
    "columns_to_convert = [\n",
    "    \"codigo_municipio_completo\", 'codigo_arranjo_populacional', 'codigo_concentracao_urbana',\n",
    "    'codigo_municipio', 'codigo_regiao_rural', 'codigo_regiao_intermediaria', 'codigo_regiao_imediata',\n",
    "    'codigo_microrregiao', 'codigo_mesorregiao', 'codigo_uf', 'ano_notificacao']"
   ]
  },
  {
   "cell_type": "code",
   "execution_count": 52,
   "metadata": {},
   "outputs": [],
   "source": [
    "for arquivo in arquivos_tsv:\n",
    "    df = pd.read_csv(os.path.join(diretorio_ibge_pib_tsv, arquivo), sep='\\t')\n",
    "    df = df.rename(columns=column_map)\n",
    "    df['Codigo_Municipio'] = df['Codigo_Municipio_completo'].apply(lambda x: str(x)[:-1])\n",
    "    # Itera sobre cada coluna e tenta converter para inteiro\n",
    "    df.columns = df.columns.str.lower()\n",
    "    for column in columns_to_convert:\n",
    "        df[column] = pd.to_numeric(df[column], errors='coerce').astype('Int64')\n",
    "    df.to_csv(os.path.join(diretorio_ibge_pib_tsv_silver, arquivo), sep='\\t', index=False)"
   ]
  },
  {
   "cell_type": "code",
   "execution_count": 5,
   "metadata": {},
   "outputs": [],
   "source": [
    "diretorio_dotenv = os.path.join(diretorio_base, \".env\")\n",
    "\n",
    "cursor, conn = toolkitETL.conectar_banco(diretorio_dotenv)\n",
    "for arquivo_tsv in arquivos_tsv:\n",
    "    \n",
    "    caminho_arquivo = os.path.join(diretorio_ibge_pib_tsv_silver, arquivo_tsv)\n",
    "    toolkitETL.inserir_no_banco(cursor, conn, caminho_arquivo, 'ibge_pib', delimiter='\\t', diretorio_dotenv=diretorio_dotenv)\n"
   ]
  }
 ],
 "metadata": {
  "kernelspec": {
   "display_name": ".venv",
   "language": "python",
   "name": "python3"
  },
  "language_info": {
   "codemirror_mode": {
    "name": "ipython",
    "version": 3
   },
   "file_extension": ".py",
   "mimetype": "text/x-python",
   "name": "python",
   "nbconvert_exporter": "python",
   "pygments_lexer": "ipython3",
   "version": "3.12.0"
  }
 },
 "nbformat": 4,
 "nbformat_minor": 2
}
