{
 "cells": [
  {
   "cell_type": "code",
   "execution_count": 63,
   "metadata": {},
   "outputs": [
    {
     "data": {
      "text/plain": [
       "<module 'toolkit' from 'd:\\\\Projetos\\\\ETL-ML-Dengue\\\\src\\\\etl\\\\toolkit.py'>"
      ]
     },
     "execution_count": 63,
     "metadata": {},
     "output_type": "execute_result"
    }
   ],
   "source": [
    "import os\n",
    "from pathlib import Path\n",
    "import toolkit\n",
    "import importlib\n",
    "importlib.reload(toolkit)"
   ]
  },
  {
   "cell_type": "code",
   "execution_count": 33,
   "metadata": {},
   "outputs": [],
   "source": [
    "## Estabelecendo diretórios base\n",
    "diretorio_src_etl = os.getcwd()\n",
    "diretorio_src = Path(diretorio_src_etl).parent.absolute()\n",
    "diretorio_base = Path(diretorio_src).parent.absolute()\n",
    "diretorio_data = os.path.join(diretorio_base, 'data')\n",
    "diretorio_bronze = os.path.join(diretorio_data, 'bronze')\n",
    "diretorio_ibge = os.path.join(diretorio_bronze, 'ibge')\n",
    "diretorio_ibge_zip = os.path.join(diretorio_ibge, 'zip')\n",
    "diretorio_ibge_dbf = os.path.join(diretorio_ibge, 'dbf')\n",
    "diretorio_ibge_csv = os.path.join(diretorio_ibge, 'csv')\n",
    "\n",
    "## Criação de pastas para armazenar os arquivos\n",
    "os.makedirs(os.path.join(diretorio_data), exist_ok=True)\n",
    "os.makedirs(os.path.join(diretorio_bronze), exist_ok=True)\n",
    "os.makedirs(os.path.join(diretorio_ibge), exist_ok=True)\n",
    "os.makedirs(os.path.join(diretorio_ibge_zip), exist_ok=True)\n",
    "os.makedirs(os.path.join(diretorio_ibge_dbf), exist_ok=True)\n",
    "os.makedirs(os.path.join(diretorio_ibge_csv), exist_ok=True)\n",
    "\n"
   ]
  },
  {
   "cell_type": "code",
   "execution_count": 21,
   "metadata": {},
   "outputs": [],
   "source": [
    "link='ftp://ftp.datasus.gov.br/dissemin/publicos/IBGE/POPTCU/'\n",
    "prefixo = 'POPTBR'\n",
    "extensao = 'zip'"
   ]
  },
  {
   "cell_type": "code",
   "execution_count": 35,
   "metadata": {},
   "outputs": [
    {
     "name": "stderr",
     "output_type": "stream",
     "text": [
      "100%|██████████| 12/12 [00:16<00:00,  1.41s/it]\n"
     ]
    }
   ],
   "source": [
    "falhas = toolkit.loop_download_anos(inicio=10, fim=21, diretorio_download=diretorio_ibge_zip,\n",
    "                                    link=link, prefixo=prefixo, extensao=extensao, ftp=True)"
   ]
  },
  {
   "cell_type": "code",
   "execution_count": 57,
   "metadata": {},
   "outputs": [],
   "source": [
    "toolkit.unzip_and_move_csv(diretorio_ibge_zip, diretorio_ibge_dbf, extensao_extraido=\"dbf\")"
   ]
  },
  {
   "cell_type": "code",
   "execution_count": 64,
   "metadata": {},
   "outputs": [],
   "source": [
    "toolkit.convert_dbf_to_csv(diretorio_ibge_dbf, diretorio_ibge_csv)"
   ]
  }
 ],
 "metadata": {
  "kernelspec": {
   "display_name": ".venv",
   "language": "python",
   "name": "python3"
  },
  "language_info": {
   "codemirror_mode": {
    "name": "ipython",
    "version": 3
   },
   "file_extension": ".py",
   "mimetype": "text/x-python",
   "name": "python",
   "nbconvert_exporter": "python",
   "pygments_lexer": "ipython3",
   "version": "3.8.3"
  }
 },
 "nbformat": 4,
 "nbformat_minor": 2
}
