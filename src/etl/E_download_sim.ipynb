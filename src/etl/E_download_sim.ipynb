{
 "cells": [
  {
   "cell_type": "code",
   "execution_count": 1,
   "metadata": {
    "id": "mjzUuMr3V0MB"
   },
   "outputs": [
    {
     "data": {
      "text/plain": [
       "<module 'toolkitETL' from 'c:\\\\Users\\\\pedro\\\\OneDrive\\\\Área de Trabalho\\\\Pedro\\\\Portifolio\\\\ETL-ML-Dengue\\\\src\\\\etl\\\\toolkitETL.py'>"
      ]
     },
     "execution_count": 1,
     "metadata": {},
     "output_type": "execute_result"
    }
   ],
   "source": [
    "import os\n",
    "from pathlib import Path\n",
    "import toolkitETL\n",
    "import importlib\n",
    "importlib.reload(toolkitETL)\n"
   ]
  },
  {
   "cell_type": "code",
   "execution_count": 2,
   "metadata": {},
   "outputs": [],
   "source": [
    "## Estabelecendo diretórios base\n",
    "diretorio_src_etl = os.getcwd()\n",
    "diretorio_src = Path(diretorio_src_etl).parent.absolute()\n",
    "diretorio_base = Path(diretorio_src).parent.absolute()\n",
    "diretorio_base = \"D:\\\\Mestrado_pedro\"\n",
    "diretorio_data = os.path.join(diretorio_base, 'data')\n",
    "diretorio_bronze = os.path.join(diretorio_data, 'bronze')\n",
    "diretorio_sim = os.path.join(diretorio_bronze, 'sim')\n",
    "diretorio_sim_dbc = os.path.join(diretorio_sim, 'dbc')\n",
    "diretorio_sim_csv = os.path.join(diretorio_sim, 'csv')\n",
    "\n",
    "## Criação de pastas para armazenar os arquivos\n",
    "os.makedirs(os.path.join(diretorio_data), exist_ok=True)\n",
    "os.makedirs(os.path.join(diretorio_bronze), exist_ok=True)\n",
    "os.makedirs(os.path.join(diretorio_sim), exist_ok=True)\n",
    "os.makedirs(os.path.join(diretorio_sim_dbc), exist_ok=True)\n",
    "os.makedirs(os.path.join(diretorio_sim_csv), exist_ok=True)\n",
    "\n",
    "\n"
   ]
  },
  {
   "cell_type": "code",
   "execution_count": 3,
   "metadata": {},
   "outputs": [],
   "source": [
    "link='ftp://ftp.datasus.gov.br/dissemin/publicos/SIM/CID10/DORES/'\n",
    "prefixo = 'DO'\n",
    "extensao = '.dbc'\n",
    "lista_estados = [\n",
    "        \"AC\", \"AL\", \"AP\", \"AM\", \"BA\",\n",
    "        \"CE\", \"DF\", \"ES\", \"GO\", \"MA\",\n",
    "        \"MT\", \"MS\", \"MG\", \"PA\", \"PB\",\n",
    "        \"PR\", \"PE\", \"PI\", \"RJ\", \"RN\",\n",
    "        \"RS\", \"RO\", \"RR\", \"SC\", \"SP\",\n",
    "        \"SE\", \"TO\",\n",
    "]"
   ]
  },
  {
   "cell_type": "code",
   "execution_count": 5,
   "metadata": {},
   "outputs": [
    {
     "name": "stderr",
     "output_type": "stream",
     "text": [
      "                                             \r"
     ]
    }
   ],
   "source": [
    "falhas_estados = toolkitETL.loop_download_anos_estados(inicio=14, fim=21, diretorio_download=diretorio_sim_dbc,\n",
    "                                    link=link, prefixo=prefixo, extensao=extensao, lista_estados=lista_estados, ftp=True,\n",
    "                                    texto_adicional_pre_ano=\"20\")"
   ]
  },
  {
   "cell_type": "code",
   "execution_count": 3,
   "metadata": {},
   "outputs": [
    {
     "name": "stdout",
     "output_type": "stream",
     "text": [
      "['Rscript', 'c:\\\\Users\\\\pedro\\\\OneDrive\\\\Área de Trabalho\\\\Pedro\\\\Portifolio\\\\ETL-ML-Dengue\\\\src\\\\etl\\\\dbc2csv.R', 'D:\\\\Mestrado_pedro\\\\data\\\\bronze\\\\sim\\\\dbc', 'D:\\\\Mestrado_pedro\\\\data\\\\bronze\\\\sim\\\\csv']\n",
      "\n"
     ]
    }
   ],
   "source": [
    "# Defina os diretórios de entrada e saída\n",
    "input_dir = diretorio_sim_dbc\n",
    "output_dir = diretorio_sim_csv\n",
    "r_script_path = os.path.join(diretorio_src_etl, \"dbc2csv.R\")\n",
    "\n",
    "# Chama a função\n",
    "toolkitETL.run_r_script_dbc2csv(input_dir, output_dir, r_script_path)\n"
   ]
  }
 ],
 "metadata": {
  "colab": {
   "authorship_tag": "ABX9TyPwOUAXplPeVHlkozBD2K4y",
   "mount_file_id": "1KMnk0bXSzHVycLklGRnEp2NGJqNDuODS",
   "provenance": []
  },
  "kernelspec": {
   "display_name": "Python 3 (ipykernel)",
   "language": "python",
   "name": "python3"
  },
  "language_info": {
   "codemirror_mode": {
    "name": "ipython",
    "version": 3
   },
   "file_extension": ".py",
   "mimetype": "text/x-python",
   "name": "python",
   "nbconvert_exporter": "python",
   "pygments_lexer": "ipython3",
   "version": "3.12.0"
  }
 },
 "nbformat": 4,
 "nbformat_minor": 4
}
