{
 "cells": [
  {
   "cell_type": "code",
   "execution_count": 2,
   "metadata": {},
   "outputs": [
    {
     "data": {
      "text/plain": [
       "<module 'toolkitETL' from 'd:\\\\Projetos\\\\ETL-ML-Dengue\\\\src\\\\etl\\\\toolkitETL.py'>"
      ]
     },
     "execution_count": 2,
     "metadata": {},
     "output_type": "execute_result"
    }
   ],
   "source": [
    "import pandas as pd\n",
    "import os\n",
    "from pathlib import Path\n",
    "import importlib\n",
    "import toolkitETL\n",
    "importlib.reload(toolkitETL)\n"
   ]
  },
  {
   "cell_type": "code",
   "execution_count": 3,
   "metadata": {},
   "outputs": [],
   "source": [
    "## Estabelecendo diretórios base\n",
    "diretorio_src_etl = os.getcwd()\n",
    "diretorio_src = Path(diretorio_src_etl).parent.absolute()\n",
    "diretorio_base = Path(diretorio_src).parent.absolute()\n",
    "diretorio_data = os.path.join(diretorio_base, 'data')\n",
    "diretorio_bronze = os.path.join(diretorio_data, 'bronze')\n",
    "diretorio_ibge_pib = os.path.join(diretorio_bronze, 'ibge_pib')\n",
    "diretorio_ibge_pib_zip = os.path.join(diretorio_ibge_pib, 'zip')\n",
    "diretorio_ibge_pib_xlsx = os.path.join(diretorio_ibge_pib, 'xlsx')\n",
    "diretorio_ibge_pib_tsv = os.path.join(diretorio_ibge_pib, 'tsv')\n",
    "\n",
    "\n",
    "## Criação de pastas para armazenar os arquivos\n",
    "os.makedirs(os.path.join(diretorio_data), exist_ok=True)\n",
    "os.makedirs(os.path.join(diretorio_bronze), exist_ok=True)\n",
    "os.makedirs(os.path.join(diretorio_ibge_pib), exist_ok=True)\n",
    "os.makedirs(os.path.join(diretorio_ibge_pib_zip), exist_ok=True)\n",
    "os.makedirs(os.path.join(diretorio_ibge_pib_xlsx), exist_ok=True)\n",
    "os.makedirs(os.path.join(diretorio_ibge_pib_tsv), exist_ok=True)\n",
    "\n"
   ]
  },
  {
   "cell_type": "code",
   "execution_count": 4,
   "metadata": {},
   "outputs": [],
   "source": [
    "filename = 'base_de_dados_2010_2021_xlsx.zip'\n",
    "filename_path = os.path.join(diretorio_ibge_pib_zip, filename)\n",
    "url='https://ftp.ibge.gov.br/Pib_Municipios/2021/base/'+filename\n"
   ]
  },
  {
   "cell_type": "code",
   "execution_count": 5,
   "metadata": {},
   "outputs": [],
   "source": [
    "toolkitETL.baixar_arquivos_http(url=url, filename=filename_path)"
   ]
  },
  {
   "cell_type": "code",
   "execution_count": 6,
   "metadata": {},
   "outputs": [],
   "source": [
    "toolkitETL.unzip_and_move_csv(diretorio_zip=diretorio_ibge_pib_zip, diretorio_final=diretorio_ibge_pib_xlsx,\n",
    "                              extensao_extraido='xlsx')"
   ]
  },
  {
   "cell_type": "code",
   "execution_count": 7,
   "metadata": {},
   "outputs": [],
   "source": [
    "arquivos_xslx = [arquivo for arquivo in os.listdir(diretorio_ibge_pib_xlsx) if arquivo.endswith(\"xlsx\")]\n",
    "arquivos_tsv = [arquivo.rstrip(\"xlsx\") + \"tsv\" for arquivo in arquivos_xslx]"
   ]
  },
  {
   "cell_type": "code",
   "execution_count": 8,
   "metadata": {},
   "outputs": [],
   "source": [
    "for arquivo_xlsx, arquivo_tsv in zip(arquivos_xslx, arquivos_tsv):\n",
    "    df = pd.read_excel(os.path.join(diretorio_ibge_pib_xlsx, arquivo_xlsx))\n",
    "    df.to_csv(os.path.join(diretorio_ibge_pib_tsv, arquivo_tsv), sep='\\t', index=False)"
   ]
  }
 ],
 "metadata": {
  "kernelspec": {
   "display_name": ".venv",
   "language": "python",
   "name": "python3"
  },
  "language_info": {
   "codemirror_mode": {
    "name": "ipython",
    "version": 3
   },
   "file_extension": ".py",
   "mimetype": "text/x-python",
   "name": "python",
   "nbconvert_exporter": "python",
   "pygments_lexer": "ipython3",
   "version": "3.8.3"
  }
 },
 "nbformat": 4,
 "nbformat_minor": 2
}
