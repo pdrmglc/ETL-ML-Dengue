{
 "cells": [
  {
   "cell_type": "code",
   "execution_count": 17,
   "metadata": {
    "id": "mjzUuMr3V0MB"
   },
   "outputs": [],
   "source": [
    "import requests\n",
    "import urllib.request\n",
    "from tqdm import tqdm\n",
    "import os\n",
    "from pathlib import Path\n"
   ]
  },
  {
   "cell_type": "code",
   "execution_count": 5,
   "metadata": {},
   "outputs": [],
   "source": [
    "## Estabelecendo diretórios base\n",
    "diretorio_src_etl = os.getcwd()\n",
    "diretorio_src = Path(diretorio_src_etl).parent.absolute()\n",
    "diretorio_base = Path(diretorio_src).parent.absolute()\n",
    "diretorio_data = os.path.join(diretorio_base, 'data')\n",
    "diretorio_bronze = os.path.join(diretorio_data, 'bronze')\n",
    "diretorio_sinan = os.path.join(diretorio_bronze, 'sinan')\n",
    "diretorio_sinan_dbc = os.path.join(diretorio_sinan, 'dbc')\n",
    "diretorio_sinan_csv = os.path.join(diretorio_sinan, 'csv')\n",
    "\n",
    "## Criação de pastas para armazenar os arquivos\n",
    "os.makedirs(os.path.join(diretorio_data), exist_ok=True)\n",
    "os.makedirs(os.path.join(diretorio_bronze), exist_ok=True)\n",
    "os.makedirs(os.path.join(diretorio_sinan), exist_ok=True)\n",
    "os.makedirs(os.path.join(diretorio_sinan_dbc), exist_ok=True)\n",
    "os.makedirs(os.path.join(diretorio_sinan_csv), exist_ok=True)\n",
    "\n",
    "\n"
   ]
  },
  {
   "cell_type": "code",
   "execution_count": 27,
   "metadata": {
    "id": "kL-SZXuNWo4m"
   },
   "outputs": [],
   "source": [
    "def intervalo_anos(inicio: int, fim: int) -> range:\n",
    "    return (range(inicio, fim+1))\n",
    "\n",
    "def baixar_arquivos_http(url: str, filename: str) -> None:\n",
    "    \n",
    "    response = requests.get(url)\n",
    "    # Verificar se a solicitação foi bem-sucedida (código de status 200)\n",
    "    if response.status_code == 200:\n",
    "        # Abrir o arquivo em modo de escrita binária e escrever os dados baixados nele\n",
    "        with open(filename, 'wb') as f:\n",
    "            f.write(response.content)\n",
    "\n",
    "def baixar_arquivos_ftp(url: str, filename: str) -> None:\n",
    "\n",
    "    urllib.request.urlretrieve(url, filename)\n",
    "\n",
    "        \n"
   ]
  },
  {
   "cell_type": "code",
   "execution_count": 25,
   "metadata": {
    "id": "6LOKPAh-XARN"
   },
   "outputs": [],
   "source": [
    "lista_anos = intervalo_anos(10, 21)"
   ]
  },
  {
   "cell_type": "code",
   "execution_count": 29,
   "metadata": {
    "colab": {
     "base_uri": "https://localhost:8080/"
    },
    "executionInfo": {
     "elapsed": 739487,
     "status": "ok",
     "timestamp": 1713011101491,
     "user": {
      "displayName": "Pedro Miguel Carneiro Jeronimo",
      "userId": "05114328290695648119"
     },
     "user_tz": 180
    },
    "id": "C_EO72NaVgqM",
    "outputId": "24b5bd52-9d38-4fd5-dc27-b1c95ad82ff8"
   },
   "outputs": [
    {
     "ename": "SyntaxError",
     "evalue": "unexpected EOF while parsing (154104307.py, line 7)",
     "output_type": "error",
     "traceback": [
      "\u001b[1;36m  Cell \u001b[1;32mIn[29], line 7\u001b[1;36m\u001b[0m\n\u001b[1;33m    if not os.path.exists(filename): # segunda verificação pois se não baixou, informa qual não funcionou\u001b[0m\n\u001b[1;37m                                                                                                         ^\u001b[0m\n\u001b[1;31mSyntaxError\u001b[0m\u001b[1;31m:\u001b[0m unexpected EOF while parsing\n"
     ]
    }
   ],
   "source": [
    "for ano in tqdm(lista_anos):\n",
    "    falhas = []\n",
    "    filename = os.path.join(diretorio_sinan_dbc, f'DENGBR{str(ano)}.dbc')\n",
    "    url = f'ftp://ftp.datasus.gov.br/dissemin/publicos/SINAN/DADOS/FINAIS/DENGBR{ano}.dbc'\n",
    "    \n",
    "    if not os.path.exists(filename):\n",
    "        baixar_arquivos_ftp(url=url, filename=filename)\n",
    "    if not os.path.exists(filename): # segunda verificação pois se não baixou, informa qual não funcionou\n",
    "        falhas.append((filename, url))\n",
    "print(falhas)\n"
   ]
  }
 ],
 "metadata": {
  "colab": {
   "authorship_tag": "ABX9TyPwOUAXplPeVHlkozBD2K4y",
   "mount_file_id": "1KMnk0bXSzHVycLklGRnEp2NGJqNDuODS",
   "provenance": []
  },
  "kernelspec": {
   "display_name": "Python 3 (ipykernel)",
   "language": "python",
   "name": "python3"
  },
  "language_info": {
   "codemirror_mode": {
    "name": "ipython",
    "version": 3
   },
   "file_extension": ".py",
   "mimetype": "text/x-python",
   "name": "python",
   "nbconvert_exporter": "python",
   "pygments_lexer": "ipython3",
   "version": "3.8.3"
  }
 },
 "nbformat": 4,
 "nbformat_minor": 4
}
