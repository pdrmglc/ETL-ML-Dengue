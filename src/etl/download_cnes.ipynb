{
 "cells": [
  {
   "cell_type": "code",
   "execution_count": 8,
   "metadata": {},
   "outputs": [
    {
     "data": {
      "text/plain": [
       "<module 'toolkitETL' from 'd:\\\\Projetos\\\\ETL-ML-Dengue\\\\src\\\\etl\\\\toolkitETL.py'>"
      ]
     },
     "execution_count": 8,
     "metadata": {},
     "output_type": "execute_result"
    }
   ],
   "source": [
    "import os\n",
    "from pathlib import Path\n",
    "import toolkitETL\n",
    "import importlib\n",
    "importlib.reload(toolkitETL)\n"
   ]
  },
  {
   "cell_type": "code",
   "execution_count": null,
   "metadata": {},
   "outputs": [],
   "source": [
    "## Estabelecendo diretórios base\n",
    "diretorio_src_etl = os.getcwd()\n",
    "diretorio_src = Path(diretorio_src_etl).parent.absolute()\n",
    "diretorio_base = Path(diretorio_src).parent.absolute()\n",
    "diretorio_data = os.path.join(diretorio_base, 'data')\n",
    "diretorio_bronze = os.path.join(diretorio_data, 'bronze')\n",
    "\n",
    "# estabelecimentos\n",
    "diretorio_cnes_st = os.path.join(diretorio_bronze, 'cnes_st')\n",
    "diretorio_cnes_st_dbc = os.path.join(diretorio_cnes_st, 'dbc')\n",
    "diretorio_cnes_st_csv = os.path.join(diretorio_cnes_st, 'csv')\n",
    "\n",
    "# profissionais\n",
    "diretorio_cnes_pf = os.path.join(diretorio_bronze, 'cnes_pf')\n",
    "diretorio_cnes_pf_dbc = os.path.join(diretorio_cnes_pf, 'dbc')\n",
    "diretorio_cnes_pf_csv = os.path.join(diretorio_cnes_pf, 'csv')\n",
    "\n",
    "# equipamentos\n",
    "diretorio_cnes_eq = os.path.join(diretorio_bronze, 'cnes_eq')\n",
    "diretorio_cnes_eq_dbc = os.path.join(diretorio_cnes_eq, 'dbc')\n",
    "diretorio_cnes_eq_csv = os.path.join(diretorio_cnes_eq, 'csv')\n",
    "\n",
    "## Criação de pastas para armazenar os arquivos\n",
    "os.makedirs(os.path.join(diretorio_data), exist_ok=True)\n",
    "os.makedirs(os.path.join(diretorio_bronze), exist_ok=True)\n",
    "\n",
    "# estabelecimentos\n",
    "os.makedirs(os.path.join(diretorio_cnes_st), exist_ok=True)\n",
    "os.makedirs(os.path.join(diretorio_cnes_st_dbc), exist_ok=True)\n",
    "os.makedirs(os.path.join(diretorio_cnes_st_csv), exist_ok=True)\n",
    "\n",
    "# profissionais\n",
    "os.makedirs(os.path.join(diretorio_cnes_pf), exist_ok=True)\n",
    "os.makedirs(os.path.join(diretorio_cnes_pf_dbc), exist_ok=True)\n",
    "os.makedirs(os.path.join(diretorio_cnes_pf_csv), exist_ok=True)\n",
    "\n",
    "# equipamentos\n",
    "os.makedirs(os.path.join(diretorio_cnes_eq), exist_ok=True)\n",
    "os.makedirs(os.path.join(diretorio_cnes_eq_dbc), exist_ok=True)\n",
    "os.makedirs(os.path.join(diretorio_cnes_eq_csv), exist_ok=True)\n",
    "\n",
    "\n"
   ]
  },
  {
   "cell_type": "code",
   "execution_count": 10,
   "metadata": {},
   "outputs": [],
   "source": [
    "link='ftp://ftp.datasus.gov.br/dissemin/publicos/CNES/200508_/Dados/ST/'\n",
    "prefixo = 'ST'\n",
    "extensao = '.dbc'\n",
    "lista_estados = [\n",
    "        \"AC\", \"AL\", \"AP\", \"AM\", \"BA\",\n",
    "        \"CE\", \"DF\", \"ES\", \"GO\", \"MA\",\n",
    "        \"MT\", \"MS\", \"MG\", \"PA\", \"PB\",\n",
    "        \"PR\", \"PE\", \"PI\", \"RJ\", \"RN\",\n",
    "        \"RS\", \"RO\", \"RR\", \"SC\", \"SP\",\n",
    "        \"SE\", \"TO\",\n",
    "]"
   ]
  },
  {
   "cell_type": "code",
   "execution_count": null,
   "metadata": {},
   "outputs": [],
   "source": [
    "for mes in toolkitETL.intervalo_anos(inicio=1, fim=2):\n",
    "    mes = str(mes)\n",
    "    if len(mes) == 1:\n",
    "        mes = \"0\"+mes\n",
    "    falhas_estados = toolkitETL.loop_download_anos_estados(inicio=10, fim=10, diretorio_download=diretorio_cnes_st_dbc,\n",
    "                                        link=link, prefixo=prefixo, extensao=extensao, lista_estados=lista_estados, ftp=True,\n",
    "                                        texto_adicional_pos_ano=mes)"
   ]
  },
  {
   "cell_type": "code",
   "execution_count": 12,
   "metadata": {},
   "outputs": [
    {
     "name": "stdout",
     "output_type": "stream",
     "text": [
      "\n"
     ]
    }
   ],
   "source": [
    "# Defina os diretórios de entrada e saída\n",
    "input_dir = diretorio_cnes_st_dbc\n",
    "output_dir = diretorio_cnes_st_csv\n",
    "r_script_path = \"D:\\\\Projetos\\\\ETL-ML-Dengue\\\\src\\\\etl\\dbc2csv.R\"\n",
    "\n",
    "# Chama a função\n",
    "toolkitETL.run_r_script_dbc2csv(input_dir, output_dir, r_script_path)\n"
   ]
  },
  {
   "cell_type": "code",
   "execution_count": 14,
   "metadata": {},
   "outputs": [],
   "source": [
    "link='ftp://ftp.datasus.gov.br/dissemin/publicos/CNES/200508_/Dados/PF/'\n",
    "prefixo = 'PF'\n",
    "extensao = '.dbc'\n",
    "lista_estados = [\n",
    "        \"AC\", \"AL\", \"AP\", \"AM\", \"BA\",\n",
    "        \"CE\", \"DF\", \"ES\", \"GO\", \"MA\",\n",
    "        \"MT\", \"MS\", \"MG\", \"PA\", \"PB\",\n",
    "        \"PR\", \"PE\", \"PI\", \"RJ\", \"RN\",\n",
    "        \"RS\", \"RO\", \"RR\", \"SC\", \"SP\",\n",
    "        \"SE\", \"TO\",\n",
    "]\n"
   ]
  },
  {
   "cell_type": "code",
   "execution_count": null,
   "metadata": {},
   "outputs": [],
   "source": [
    "for mes in toolkitETL.intervalo_anos(inicio=1, fim=1):\n",
    "    mes = str(mes)\n",
    "    if len(mes) == 1:\n",
    "        mes = \"0\"+mes\n",
    "    falhas_estados = toolkitETL.loop_download_anos_estados(inicio=10, fim=10, diretorio_download=diretorio_cnes_pf_dbc,\n",
    "                                        link=link, prefixo=prefixo, extensao=extensao, lista_estados=lista_estados, ftp=True,\n",
    "                                        texto_adicional_pos_ano=mes)"
   ]
  },
  {
   "cell_type": "code",
   "execution_count": null,
   "metadata": {},
   "outputs": [],
   "source": [
    "# Defina os diretórios de entrada e saída\n",
    "input_dir = diretorio_cnes_pf_dbc\n",
    "output_dir = diretorio_cnes_pf_csv\n",
    "r_script_path = \"D:\\\\Projetos\\\\ETL-ML-Dengue\\\\src\\\\etl\\dbc2csv.R\"\n",
    "\n",
    "# Chama a função\n",
    "toolkitETL.run_r_script_dbc2csv(input_dir, output_dir, r_script_path)\n"
   ]
  },
  {
   "cell_type": "code",
   "execution_count": null,
   "metadata": {},
   "outputs": [],
   "source": [
    "link='ftp://ftp.datasus.gov.br/dissemin/publicos/CNES/200508_/Dados/EQ/'\n",
    "prefixo = 'EQ'\n",
    "extensao = '.dbc'\n",
    "lista_estados = [\n",
    "        \"AC\", \"AL\", \"AP\", \"AM\", \"BA\",\n",
    "        \"CE\", \"DF\", \"ES\", \"GO\", \"MA\",\n",
    "        \"MT\", \"MS\", \"MG\", \"PA\", \"PB\",\n",
    "        \"PR\", \"PE\", \"PI\", \"RJ\", \"RN\",\n",
    "        \"RS\", \"RO\", \"RR\", \"SC\", \"SP\",\n",
    "        \"SE\", \"TO\",\n",
    "]\n"
   ]
  },
  {
   "cell_type": "code",
   "execution_count": null,
   "metadata": {},
   "outputs": [],
   "source": [
    "for mes in toolkitETL.intervalo_anos(inicio=1, fim=1):\n",
    "    mes = str(mes)\n",
    "    if len(mes) == 1:\n",
    "        mes = \"0\"+mes\n",
    "    falhas_estados = toolkitETL.loop_download_anos_estados(inicio=10, fim=10, diretorio_download=diretorio_cnes_eq_dbc,\n",
    "                                        link=link, prefixo=prefixo, extensao=extensao, lista_estados=lista_estados, ftp=True,\n",
    "                                        texto_adicional_pos_ano=mes)"
   ]
  },
  {
   "cell_type": "code",
   "execution_count": null,
   "metadata": {},
   "outputs": [],
   "source": [
    "# Defina os diretórios de entrada e saída\n",
    "input_dir = diretorio_cnes_eq_dbc\n",
    "output_dir = diretorio_cnes_eq_csv\n",
    "r_script_path = \"D:\\\\Projetos\\\\ETL-ML-Dengue\\\\src\\\\etl\\dbc2csv.R\"\n",
    "\n",
    "# Chama a função\n",
    "toolkitETL.run_r_script_dbc2csv(input_dir, output_dir, r_script_path)\n"
   ]
  }
 ],
 "metadata": {
  "kernelspec": {
   "display_name": ".venv",
   "language": "python",
   "name": "python3"
  },
  "language_info": {
   "codemirror_mode": {
    "name": "ipython",
    "version": 3
   },
   "file_extension": ".py",
   "mimetype": "text/x-python",
   "name": "python",
   "nbconvert_exporter": "python",
   "pygments_lexer": "ipython3",
   "version": "3.8.3"
  }
 },
 "nbformat": 4,
 "nbformat_minor": 2
}
